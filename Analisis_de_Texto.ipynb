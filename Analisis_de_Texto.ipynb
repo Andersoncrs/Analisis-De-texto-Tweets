{
 "cells": [
  {
   "cell_type": "markdown",
   "metadata": {},
   "source": [
    "# Análisis de Texto - Tweets de Elon Musk\n",
    "El análisis de texto ha tomado mucha popularidad en la actualidad debido a su impacto, puesto que se ha convertido en la principal fuente de información de diversos estudios como el análisis de reputación de empresas, productos, personalidades, predicción de tendencias, entre muchas otras aplicaciones. El análisis de texto engloba un conjunto de técnicas que permiten estructurar la información heterogénea que se encuentra presente en los textos con la finalidad de poder identificar patrones, como lo es el uso de las palabras de una determinada persona, así como extraer nueva información.\n",
    "\n",
    "En la presente actividad, se analizarán publicaciones que ha realizado Elon Musk con el objetivo de identificar las palabras más frecuentemente empleadas por el usuario en la red social de X. A través del análisis de frecuencia de términos, se puede obtener una visión sobre sus temas de interés más recurrentes, el tono de sus mensajes y las posibles variaciones en su lenguaje a lo largo del tiempo.\n"
   ]
  },
  {
   "cell_type": "markdown",
   "metadata": {},
   "source": [
    "# Librerías\n",
    "Las librerías que vamos a utilizar para llevar a cabo la actividad son:"
   ]
  },
  {
   "cell_type": "code",
   "execution_count": 33,
   "metadata": {},
   "outputs": [],
   "source": [
    "# Tratamiento de datos\n",
    "# ==============================================================================\n",
    "import numpy as np\n",
    "import pandas as pd\n",
    "import re\n",
    "from dateutil.relativedelta import relativedelta\n",
    "from nltk.corpus import stopwords\n",
    "\n",
    "\n",
    "# Gráficos\n",
    "# ==============================================================================\n",
    "import matplotlib.pyplot as plt\n",
    "import seaborn as sns\n",
    "\n",
    "\n",
    "#Configuración Gráficas y tablas\n",
    "# ==============================================================================\n",
    "plt.style.use('ggplot')\n",
    "plt.rcParams['figure.figsize'] = [6, 4.5]\n",
    "palette = [\"#003049\",\"#d62828\",\"#f77f00\",\"#fcbf49\",\"#eae2b7\"]\n",
    "sns.set_theme( palette= palette, context= \"notebook\")\n",
    "\n",
    "\n",
    "# Configuración warnings\n",
    "# ==============================================================================\n",
    "import warnings\n",
    "warnings.filterwarnings('ignore')"
   ]
  },
  {
   "cell_type": "markdown",
   "metadata": {},
   "source": [
    "# 1. Ingesta de Datos\n",
    "Para la extracción de los datos, se ha utilizado la API proporcionada por la plataforma X (anteriormente conocida como Twitter). En este proceso, empleamos la librería Tweepy, que facilita la comunicación directa con la API, permitiendo la descarga y almacenamiento de las publicaciones de manera eficiente. Los datos extraídos corresponden a los tweets publicados por Elon Musk.\n",
    "\n",
    "El archivo resultante de la extracción ha sido almacenado en formato CSV y está disponible para su descarga en el siguiente enlace:\n",
    "\n",
    "[Descargar archivo CSV](https://drive.google.com/uc?export=download&id=1_HaMJwFSFA33kCBhtkU6S1lM7kvBFTjm)\n",
    "\n",
    "Este conjunto de datos servirá como base para los análisis posteriores, proporcionando un registro detallado de las interacciones y contenidos compartidos por Elon Musk en la plataforma."
   ]
  },
  {
   "cell_type": "code",
   "execution_count": 34,
   "metadata": {},
   "outputs": [
    {
     "data": {
      "text/html": [
       "<div>\n",
       "<style scoped>\n",
       "    .dataframe tbody tr th:only-of-type {\n",
       "        vertical-align: middle;\n",
       "    }\n",
       "\n",
       "    .dataframe tbody tr th {\n",
       "        vertical-align: top;\n",
       "    }\n",
       "\n",
       "    .dataframe thead th {\n",
       "        text-align: right;\n",
       "    }\n",
       "</style>\n",
       "<table border=\"1\" class=\"dataframe\">\n",
       "  <thead>\n",
       "    <tr style=\"text-align: right;\">\n",
       "      <th></th>\n",
       "      <th>Tweets</th>\n",
       "      <th>Retweets</th>\n",
       "      <th>Likes</th>\n",
       "      <th>Date</th>\n",
       "    </tr>\n",
       "  </thead>\n",
       "  <tbody>\n",
       "    <tr>\n",
       "      <th>0</th>\n",
       "      <td>@PeterSchiff 🤣 thanks</td>\n",
       "      <td>209</td>\n",
       "      <td>7021</td>\n",
       "      <td>2022-10-27 16:17:39</td>\n",
       "    </tr>\n",
       "    <tr>\n",
       "      <th>1</th>\n",
       "      <td>@ZubyMusic Absolutely</td>\n",
       "      <td>755</td>\n",
       "      <td>26737</td>\n",
       "      <td>2022-10-27 13:19:25</td>\n",
       "    </tr>\n",
       "    <tr>\n",
       "      <th>2</th>\n",
       "      <td>Dear Twitter Advertisers https://t.co/GMwHmInPAS</td>\n",
       "      <td>55927</td>\n",
       "      <td>356623</td>\n",
       "      <td>2022-10-27 13:08:00</td>\n",
       "    </tr>\n",
       "    <tr>\n",
       "      <th>3</th>\n",
       "      <td>@BillyM2k 👻</td>\n",
       "      <td>802</td>\n",
       "      <td>19353</td>\n",
       "      <td>2022-10-27 02:32:48</td>\n",
       "    </tr>\n",
       "    <tr>\n",
       "      <th>4</th>\n",
       "      <td>Meeting a lot of cool people at Twitter today!</td>\n",
       "      <td>9366</td>\n",
       "      <td>195546</td>\n",
       "      <td>2022-10-26 21:39:32</td>\n",
       "    </tr>\n",
       "    <tr>\n",
       "      <th>5</th>\n",
       "      <td>Entering Twitter HQ – let that sink in! https:...</td>\n",
       "      <td>145520</td>\n",
       "      <td>1043592</td>\n",
       "      <td>2022-10-26 18:45:58</td>\n",
       "    </tr>\n",
       "    <tr>\n",
       "      <th>6</th>\n",
       "      <td>@dogeofficialceo @mtaibbi 🤣💪</td>\n",
       "      <td>194</td>\n",
       "      <td>3611</td>\n",
       "      <td>2022-10-26 17:18:30</td>\n",
       "    </tr>\n",
       "    <tr>\n",
       "      <th>7</th>\n",
       "      <td>@mtaibbi 🤣</td>\n",
       "      <td>117</td>\n",
       "      <td>2848</td>\n",
       "      <td>2022-10-26 17:14:07</td>\n",
       "    </tr>\n",
       "    <tr>\n",
       "      <th>8</th>\n",
       "      <td>@ARodTV Definitely closer to citizen journalis...</td>\n",
       "      <td>699</td>\n",
       "      <td>10189</td>\n",
       "      <td>2022-10-26 17:05:16</td>\n",
       "    </tr>\n",
       "    <tr>\n",
       "      <th>9</th>\n",
       "      <td>@sandyleevincent Nobody bats 1000 🤷‍♂️</td>\n",
       "      <td>126</td>\n",
       "      <td>2920</td>\n",
       "      <td>2022-10-26 15:42:50</td>\n",
       "    </tr>\n",
       "  </tbody>\n",
       "</table>\n",
       "</div>"
      ],
      "text/plain": [
       "                                              Tweets  Retweets    Likes  \\\n",
       "0                              @PeterSchiff 🤣 thanks       209     7021   \n",
       "1                              @ZubyMusic Absolutely       755    26737   \n",
       "2   Dear Twitter Advertisers https://t.co/GMwHmInPAS     55927   356623   \n",
       "3                                        @BillyM2k 👻       802    19353   \n",
       "4     Meeting a lot of cool people at Twitter today!      9366   195546   \n",
       "5  Entering Twitter HQ – let that sink in! https:...    145520  1043592   \n",
       "6                       @dogeofficialceo @mtaibbi 🤣💪       194     3611   \n",
       "7                                         @mtaibbi 🤣       117     2848   \n",
       "8  @ARodTV Definitely closer to citizen journalis...       699    10189   \n",
       "9             @sandyleevincent Nobody bats 1000 🤷‍♂️       126     2920   \n",
       "\n",
       "                  Date  \n",
       "0  2022-10-27 16:17:39  \n",
       "1  2022-10-27 13:19:25  \n",
       "2  2022-10-27 13:08:00  \n",
       "3  2022-10-27 02:32:48  \n",
       "4  2022-10-26 21:39:32  \n",
       "5  2022-10-26 18:45:58  \n",
       "6  2022-10-26 17:18:30  \n",
       "7  2022-10-26 17:14:07  \n",
       "8  2022-10-26 17:05:16  \n",
       "9  2022-10-26 15:42:50  "
      ]
     },
     "execution_count": 34,
     "metadata": {},
     "output_type": "execute_result"
    }
   ],
   "source": [
    "# Ingresamos el archivo csv con los datos de Elon Musk en un DataFrame \n",
    "# ==============================================================================\n",
    "\n",
    "df = pd.read_csv('ElonMusk.csv')\n",
    "df.head(10)"
   ]
  },
  {
   "cell_type": "markdown",
   "metadata": {},
   "source": [
    "Para comenzar el análisis, es importante conocer la cantidad de tweets presentes en el conjunto de datos, lo cual nos permite tener una visión inicial del tamaño de la muestra con la que trabajaremos. Esto se puede lograr fácilmente utilizando la siguiente instrucción en Python, después de haber cargado el archivo CSV"
   ]
  },
  {
   "cell_type": "code",
   "execution_count": 35,
   "metadata": {},
   "outputs": [
    {
     "name": "stdout",
     "output_type": "stream",
     "text": [
      "Número de Tweets de Elon Musk:  3060\n"
     ]
    }
   ],
   "source": [
    "# Obtenemos el numero de Tweets de Elon Musk\n",
    "# ==============================================================================\n",
    "\n",
    "print('Número de Tweets de Elon Musk: ', df.shape[0])"
   ]
  },
  {
   "cell_type": "markdown",
   "metadata": {},
   "source": [
    "Conocer la cantidad de datos es un paso fundamental, ya que nos ayuda a planificar el procesamiento y análisis posterior, además de ofrecernos un primer acercamiento a la cantidad de información que tenemos disponible para estudiar los patrones de comportamiento en las publicaciones de Elon Musk"
   ]
  },
  {
   "cell_type": "markdown",
   "metadata": {},
   "source": [
    " # 2. Preparación de Datos\n",
    "Antes de proceder con el análisis, es fundamental realizar una limpieza inicial del conjunto de datos para asegurarnos de que la información sea consistente y adecuada para las técnicas de análisis que aplicaremos. La limpieza de datos nos permite eliminar ruido y asegurarnos de que las columnas y registros sean comprensibles y estén alineados con nuestros objetivos.\n",
    "\n",
    "El primer paso en esta fase será cambiar el nombre de algunas columnas para que sean más descriptivas. Esto nos ayudará a mejorar la legibilidad del conjunto de datos y facilitará la interpretación de los resultados en etapas posteriores del análisis."
   ]
  },
  {
   "cell_type": "code",
   "execution_count": 36,
   "metadata": {},
   "outputs": [
    {
     "data": {
      "text/html": [
       "<div>\n",
       "<style scoped>\n",
       "    .dataframe tbody tr th:only-of-type {\n",
       "        vertical-align: middle;\n",
       "    }\n",
       "\n",
       "    .dataframe tbody tr th {\n",
       "        vertical-align: top;\n",
       "    }\n",
       "\n",
       "    .dataframe thead th {\n",
       "        text-align: right;\n",
       "    }\n",
       "</style>\n",
       "<table border=\"1\" class=\"dataframe\">\n",
       "  <thead>\n",
       "    <tr style=\"text-align: right;\">\n",
       "      <th></th>\n",
       "      <th>Contenido</th>\n",
       "      <th>Retweets</th>\n",
       "      <th>Likes</th>\n",
       "      <th>Fecha</th>\n",
       "    </tr>\n",
       "  </thead>\n",
       "  <tbody>\n",
       "    <tr>\n",
       "      <th>0</th>\n",
       "      <td>@PeterSchiff 🤣 thanks</td>\n",
       "      <td>209</td>\n",
       "      <td>7021</td>\n",
       "      <td>2022-10-27 16:17:39</td>\n",
       "    </tr>\n",
       "    <tr>\n",
       "      <th>1</th>\n",
       "      <td>@ZubyMusic Absolutely</td>\n",
       "      <td>755</td>\n",
       "      <td>26737</td>\n",
       "      <td>2022-10-27 13:19:25</td>\n",
       "    </tr>\n",
       "    <tr>\n",
       "      <th>2</th>\n",
       "      <td>Dear Twitter Advertisers https://t.co/GMwHmInPAS</td>\n",
       "      <td>55927</td>\n",
       "      <td>356623</td>\n",
       "      <td>2022-10-27 13:08:00</td>\n",
       "    </tr>\n",
       "    <tr>\n",
       "      <th>3</th>\n",
       "      <td>@BillyM2k 👻</td>\n",
       "      <td>802</td>\n",
       "      <td>19353</td>\n",
       "      <td>2022-10-27 02:32:48</td>\n",
       "    </tr>\n",
       "    <tr>\n",
       "      <th>4</th>\n",
       "      <td>Meeting a lot of cool people at Twitter today!</td>\n",
       "      <td>9366</td>\n",
       "      <td>195546</td>\n",
       "      <td>2022-10-26 21:39:32</td>\n",
       "    </tr>\n",
       "  </tbody>\n",
       "</table>\n",
       "</div>"
      ],
      "text/plain": [
       "                                          Contenido  Retweets   Likes  \\\n",
       "0                             @PeterSchiff 🤣 thanks       209    7021   \n",
       "1                             @ZubyMusic Absolutely       755   26737   \n",
       "2  Dear Twitter Advertisers https://t.co/GMwHmInPAS     55927  356623   \n",
       "3                                       @BillyM2k 👻       802   19353   \n",
       "4    Meeting a lot of cool people at Twitter today!      9366  195546   \n",
       "\n",
       "                 Fecha  \n",
       "0  2022-10-27 16:17:39  \n",
       "1  2022-10-27 13:19:25  \n",
       "2  2022-10-27 13:08:00  \n",
       "3  2022-10-27 02:32:48  \n",
       "4  2022-10-26 21:39:32  "
      ]
     },
     "execution_count": 36,
     "metadata": {},
     "output_type": "execute_result"
    }
   ],
   "source": [
    "# Renombramos las columnas para facilitar el trabajo con ellas\n",
    "# ==============================================================================\n",
    "\n",
    "df.rename(columns = {'Date':'Fecha', 'Tweets':'Contenido'}, inplace = True)\n",
    "\n",
    "df.head(5)"
   ]
  },
  {
   "cell_type": "markdown",
   "metadata": {},
   "source": [
    "Ahora procederemos a comprobar si las columnas del conjunto de datos tienen el tipo de dato adecuado, lo cual es esencial para evitar errores durante el análisis, cada columna debe estar correctamente tipada según su contenido, ya que los tipos de datos incorrectos pueden afectar tanto la eficiencia como la precisión de las operaciones que realizaremos más adelante"
   ]
  },
  {
   "cell_type": "code",
   "execution_count": 37,
   "metadata": {},
   "outputs": [
    {
     "name": "stdout",
     "output_type": "stream",
     "text": [
      "<class 'pandas.core.frame.DataFrame'>\n",
      "RangeIndex: 3060 entries, 0 to 3059\n",
      "Data columns (total 4 columns):\n",
      " #   Column     Non-Null Count  Dtype \n",
      "---  ------     --------------  ----- \n",
      " 0   Contenido  3060 non-null   object\n",
      " 1   Retweets   3060 non-null   int64 \n",
      " 2   Likes      3060 non-null   int64 \n",
      " 3   Fecha      3060 non-null   object\n",
      "dtypes: int64(2), object(2)\n",
      "memory usage: 95.8+ KB\n"
     ]
    }
   ],
   "source": [
    "# Comprobamos los tipos de datos de las columnas del DataFrame\n",
    "# ==============================================================================\n",
    "\n",
    "df.info()"
   ]
  },
  {
   "cell_type": "markdown",
   "metadata": {},
   "source": [
    "Al revisar el conjunto de datos, podemos observar que la columna de fechas no está en el tipo de dato adecuado, lo que podría dificultar un análisis temporal preciso. Es esencial que las fechas estén en formato datetime para poder realizar análisis basados en el tiempo, como la distribución de tweets por días, meses o incluso horas. Si no realizamos esta corrección, las operaciones como la ordenación cronológica o la creación de gráficos temporales no serían posibles o arrojarían resultados incorrectos.\n",
    "\n",
    "Para corregir este problema, utilizaremos la función `to_datetime` de la librería Pandas, que nos permitirá convertir la columna al formato adecuado:"
   ]
  },
  {
   "cell_type": "code",
   "execution_count": 38,
   "metadata": {},
   "outputs": [
    {
     "name": "stdout",
     "output_type": "stream",
     "text": [
      "<class 'pandas.core.frame.DataFrame'>\n",
      "RangeIndex: 3060 entries, 0 to 3059\n",
      "Data columns (total 4 columns):\n",
      " #   Column     Non-Null Count  Dtype         \n",
      "---  ------     --------------  -----         \n",
      " 0   Contenido  3060 non-null   object        \n",
      " 1   Retweets   3060 non-null   int64         \n",
      " 2   Likes      3060 non-null   int64         \n",
      " 3   Fecha      3060 non-null   datetime64[ns]\n",
      "dtypes: datetime64[ns](1), int64(2), object(1)\n",
      "memory usage: 95.8+ KB\n"
     ]
    }
   ],
   "source": [
    "# Convertimos la columna Fecha a tipo datetime \n",
    "# ==============================================================================\n",
    "\n",
    "df['Fecha'] = pd.to_datetime(df['Fecha'])\n",
    "\n",
    "# Verificamos que la columna Fecha se haya convertido a tipo datetime\n",
    "# ==============================================================================\n",
    "\n",
    "df.info()"
   ]
  },
  {
   "cell_type": "markdown",
   "metadata": {},
   "source": [
    "Con este ajuste, podremos ahora realizar análisis temporales adecuados, como identificar los patrones de actividad de Elon Musk en la plataforma X y detectar tendencias de publicación a lo largo del tiempo. Estos análisis nos permitirán observar si existen periodos de mayor o menor actividad, y cómo varían los temas o el tono de sus tweets en diferentes momentos"
   ]
  },
  {
   "cell_type": "markdown",
   "metadata": {},
   "source": [
    "# 3. Limpieza de Texto\n",
    "La siguiente etapa consiste en la limpieza del contenido de cada tweet. Esta es una fase crucial en el análisis de texto, ya que su objetivo es eliminar del texto toda aquella información que no aporte relevancia respecto a su temática, estructura o contenido significativo. La limpieza nos ayuda a preparar los datos para llevar a cabo un análisis más profundo.\n",
    "\n",
    "No existe un único enfoque para realizar la limpieza de texto, ya que depende tanto de la naturaleza del conjunto de datos como de los objetivos específicos del análisis. En el caso de la plataforma X, los usuarios tienen la libertad de escribir de diversas formas, empleando emoticones, abreviaturas, signos especiales, URLs, números y otros caracteres que no aportan valor directo al análisis semántico. Por este motivo, es necesario aplicar técnicas de limpieza que eliminen:\n",
    "\n",
    "- Signos de puntuación\n",
    "- Enlaces a páginas web\n",
    "- Números\n",
    "- Espacios en blanco múltiples\n",
    "- Emoticones y otros caracteres especiales\n",
    "\n",
    "Este proceso se puede llevar a cabo con el siguiente código, utilizando las librerías re (expresiones regulares) y Pandas, por medio de la creación de una función:"
   ]
  },
  {
   "cell_type": "code",
   "execution_count": 39,
   "metadata": {},
   "outputs": [],
   "source": [
    "# Creamos una función para limpiar el texto de los Tweets \n",
    "# ==============================================================================\n",
    "\n",
    "def limpiar_texto(texto):\n",
    "    \n",
    "    # Eliminamos enlaces web \n",
    "    # ===========================================================================\n",
    "    texto = re.sub(r'http\\S+|www\\S+|https\\S+', '', texto, flags=re.MULTILINE)\n",
    "    \n",
    "    # Eliminamos los emoticones \n",
    "    # ===========================================================================\n",
    "    texto = re.sub(r'[:;=8][\\-o\\*\\']?[\\)\\]\\(\\[dDpP/\\:\\}\\{@\\|\\\\]', '', texto)\n",
    "    \n",
    "    # Eliminamos las menciones a otros usuarios\n",
    "    # ===========================================================================\n",
    "    texto = re.sub(r'\\B@\\w+', '', texto)\n",
    "    \n",
    "    # Eliminamos signos de puntuación y caracteres especiales\n",
    "    # ===========================================================================\n",
    "    texto = re.sub(r'[^\\w\\s]', '', texto)\n",
    "    \n",
    "    # Eliminamos los números\n",
    "    # ===========================================================================\n",
    "    texto = re.sub(r'\\d+', '', texto)\n",
    "    \n",
    "    # Colocamos todo el texto en minúsculas\n",
    "    # ===========================================================================\n",
    "    texto = texto.lower()\n",
    "    \n",
    "    # Eliminamos los espacios en blanco múltiples\n",
    "    # =========================================================================\n",
    "    texto = re.sub(r'\\s+', ' ', texto).strip()\n",
    "    \n",
    "    # retornamos el texto limpio \n",
    "    # ===========================================================================\n",
    "    return texto\n",
    "\n"
   ]
  },
  {
   "cell_type": "markdown",
   "metadata": {},
   "source": [
    "Para evaluar la efectividad de nuestra limpieza de texto, realizaremos una prueba sobre aquellos mensajes que contengan elementos como emoticones, signos especiales, números y otros caracteres que no son relevantes para el análisis de la temática, estructura y significado del mensaje. En esta prueba, aplicaremos nuestra función de limpieza a tweets que contienen estos caracteres no deseados y compararemos el contenido original con el texto limpio, para asegurarnos de que se ha eliminado todo aquello que no aporta valor semántico."
   ]
  },
  {
   "cell_type": "code",
   "execution_count": 40,
   "metadata": {},
   "outputs": [
    {
     "name": "stdout",
     "output_type": "stream",
     "text": [
      "Texto original:  ¡Hola! Este es un tweet de prueba con un enlace http://example.com y un emoticono :)\n",
      "Texto limpio:  hola este es un tweet de prueba con un enlace y un emoticono\n",
      "\n",
      "Texto original:  Otro tweet con números 123 y signos de puntuación!!!\n",
      "Texto limpio:  otro tweet con números y signos de puntuación\n",
      "\n",
      "Texto original:  Más texto con @menciones y #hashtags y emojis 😃😃\n",
      "Texto limpio:  más texto con y hashtags y emojis\n",
      "\n"
     ]
    }
   ],
   "source": [
    "# Creamos un mensaje que contenga enlaces, emoticones, números y signos de puntuación \n",
    "# ==============================================================================\n",
    "\n",
    "prueba_contenido = [\n",
    "        '¡Hola! Este es un tweet de prueba con un enlace http://example.com y un emoticono :)',\n",
    "        'Otro tweet con números 123 y signos de puntuación!!!',\n",
    "        'Más texto con @menciones y #hashtags y emojis 😃😃'\n",
    "    ]\n",
    "\n",
    "# Limpiamos el texto de los mensajes de prueba y lo comparamos con el texto original \n",
    "# ==============================================================================\n",
    "\n",
    "for i in prueba_contenido:\n",
    "    print('Texto original: ', i)\n",
    "    print('Texto limpio: ', limpiar_texto(i))\n",
    "    print('')"
   ]
  },
  {
   "cell_type": "markdown",
   "metadata": {},
   "source": [
    "Podemos observar que la limpieza de los mensajes de ejemplo se ha realizado correctamente. Como siguiente paso, vamos a verificar si la función de limpieza funciona adecuadamente aplicándola a 20 observaciones seleccionadas al azar. Este proceso de validación previa nos permitirá asegurarnos de que la limpieza se comporta de manera consistente y elimina correctamente los elementos no deseados antes de aplicarla a todo el conjunto de datos.\n",
    "\n",
    "Esta etapa es crucial, ya que nos permite detectar posibles errores o casos especiales en los que la función de limpieza pueda fallar o no actuar como se espera. Una vez que confirmemos que la función es efectiva con estas 20 observaciones, podremos proceder con confianza para aplicarla a todo el dataset."
   ]
  },
  {
   "cell_type": "code",
   "execution_count": 41,
   "metadata": {},
   "outputs": [
    {
     "name": "stdout",
     "output_type": "stream",
     "text": [
      "Texto original:  Jack off the board!\n",
      "Texto limpio:  jack off the board\n",
      "\n",
      "Texto original:  @WholeMarsBlog Curses, foiled again!\n",
      "Texto limpio:  curses foiled again\n",
      "\n",
      "Texto original:  @teslaownersSV @klwtts Yup\n",
      "Texto limpio:  yup\n",
      "\n",
      "Texto original:  @jack @wandrinstar web69 is 🔥🔥\n",
      "Texto limpio:  web is\n",
      "\n",
      "Texto original:  @EvaFoxU Tesla AI Day #2 will be epic\n",
      "Texto limpio:  tesla ai day will be epic\n",
      "\n",
      "Texto original:  @Alan_McGuinness British humor is the best\n",
      "Texto limpio:  british humor is the best\n",
      "\n",
      "Texto original:  @ID_AA_Carmack True\n",
      "Texto limpio:  true\n",
      "\n",
      "Texto original:  @ashleevance Starman Roadster has traveled enough to have driven every road on Earth 52.8 times https://t.co/3cE6hlDMD4\n",
      "Texto limpio:  starman roadster has traveled enough to have driven every road on earth times\n",
      "\n",
      "Texto original:  @lacker @ilyasut Even then, Lenin would’ve gotten nowhere without Ludendorff’s train\n",
      "Texto limpio:  even then lenin wouldve gotten nowhere without ludendorffs train\n",
      "\n",
      "Texto original:  @BillyM2k Even if you’re being crucified?\n",
      "Texto limpio:  even if youre being crucified\n",
      "\n",
      "Texto original:  @The_Taterade My suit is tragic\n",
      "Texto limpio:  my suit is tragic\n",
      "\n",
      "Texto original:  @ChrisDungeon @alexkehr @BillyM2k @levie Rereading The Life of Greece by Durant. In recent months, read American Caesar, Masters of Doom, Not Much of an Engineer, Wages of Destruction and Storm of Steel. \n",
      "\n",
      "Not much book fiction lately. Video games seem to have better stories these days.\n",
      "Texto limpio:  rereading the life of greece by durant in recent months read american caesar masters of doom not much of an engineer wages of destruction and storm of steel not much book fiction lately video games seem to have better stories these days\n",
      "\n",
      "Texto original:  Maybe one day we can finally achieve https://t.co/jKBu2wJIDA\n",
      "Texto limpio:  maybe one day we can finally achieve\n",
      "\n",
      "Texto original:  @kr0mb0pul0smike @RationalEtienne @tomselliott @mehdirhasan That’s a Vanity Fair party and she photobombed me in the background, but you know that already, don’t know?\n",
      "Texto limpio:  thats a vanity fair party and she photobombed me in the background but you know that already dont know\n",
      "\n",
      "Texto original:  @teslaownersSV @Tesla Yes\n",
      "Texto limpio:  yes\n",
      "\n",
      "Texto original:  @SawyerMerritt No way 🙄\n",
      "Texto limpio:  no way\n",
      "\n",
      "Texto original:  @gigadgets_ Sounds high\n",
      "Texto limpio:  sounds high\n",
      "\n",
      "Texto original:  @TrungTPhan 🤣\n",
      "Texto limpio:  \n",
      "\n",
      "Texto original:  @JuicyCreativ3 George Lucas once told me that the only reason Star Wars got made is because the old studio heads died\n",
      "Texto limpio:  george lucas once told me that the only reason star wars got made is because the old studio heads died\n",
      "\n",
      "Texto original:  And in the darkness bind them https://t.co/BvxR4HTTq1\n",
      "Texto limpio:  and in the darkness bind them\n",
      "\n"
     ]
    }
   ],
   "source": [
    "# Seleccionamos 20 observaciones aleatorias para ver el resultado de la limpieza\n",
    "# ==============================================================================\n",
    "\n",
    "muestra_aleatoria = df['Contenido'].sample(20, random_state=42)\n",
    "\n",
    "# Limpiamos el texto de las 20 observaciones seleccionadas\n",
    "# ==============================================================================\n",
    "\n",
    "for i in muestra_aleatoria:\n",
    "    print('Texto original: ', i)\n",
    "    print('Texto limpio: ', limpiar_texto(i))\n",
    "    print('')\n",
    "    "
   ]
  },
  {
   "cell_type": "markdown",
   "metadata": {},
   "source": [
    "Se puede observar que la limpieza ha funcionado correctamente en las observaciones de prueba, lo que nos da la confianza necesaria para proceder con la aplicación de la función de limpieza a todo el conjunto de datos."
   ]
  },
  {
   "cell_type": "code",
   "execution_count": 42,
   "metadata": {},
   "outputs": [
    {
     "data": {
      "text/html": [
       "<div>\n",
       "<style scoped>\n",
       "    .dataframe tbody tr th:only-of-type {\n",
       "        vertical-align: middle;\n",
       "    }\n",
       "\n",
       "    .dataframe tbody tr th {\n",
       "        vertical-align: top;\n",
       "    }\n",
       "\n",
       "    .dataframe thead th {\n",
       "        text-align: right;\n",
       "    }\n",
       "</style>\n",
       "<table border=\"1\" class=\"dataframe\">\n",
       "  <thead>\n",
       "    <tr style=\"text-align: right;\">\n",
       "      <th></th>\n",
       "      <th>Contenido</th>\n",
       "      <th>Retweets</th>\n",
       "      <th>Likes</th>\n",
       "      <th>Fecha</th>\n",
       "      <th>Contenido_limpio</th>\n",
       "    </tr>\n",
       "  </thead>\n",
       "  <tbody>\n",
       "    <tr>\n",
       "      <th>0</th>\n",
       "      <td>@PeterSchiff 🤣 thanks</td>\n",
       "      <td>209</td>\n",
       "      <td>7021</td>\n",
       "      <td>2022-10-27 16:17:39</td>\n",
       "      <td>thanks</td>\n",
       "    </tr>\n",
       "    <tr>\n",
       "      <th>1</th>\n",
       "      <td>@ZubyMusic Absolutely</td>\n",
       "      <td>755</td>\n",
       "      <td>26737</td>\n",
       "      <td>2022-10-27 13:19:25</td>\n",
       "      <td>absolutely</td>\n",
       "    </tr>\n",
       "    <tr>\n",
       "      <th>2</th>\n",
       "      <td>Dear Twitter Advertisers https://t.co/GMwHmInPAS</td>\n",
       "      <td>55927</td>\n",
       "      <td>356623</td>\n",
       "      <td>2022-10-27 13:08:00</td>\n",
       "      <td>dear twitter advertisers</td>\n",
       "    </tr>\n",
       "    <tr>\n",
       "      <th>3</th>\n",
       "      <td>@BillyM2k 👻</td>\n",
       "      <td>802</td>\n",
       "      <td>19353</td>\n",
       "      <td>2022-10-27 02:32:48</td>\n",
       "      <td></td>\n",
       "    </tr>\n",
       "    <tr>\n",
       "      <th>4</th>\n",
       "      <td>Meeting a lot of cool people at Twitter today!</td>\n",
       "      <td>9366</td>\n",
       "      <td>195546</td>\n",
       "      <td>2022-10-26 21:39:32</td>\n",
       "      <td>meeting a lot of cool people at twitter today</td>\n",
       "    </tr>\n",
       "  </tbody>\n",
       "</table>\n",
       "</div>"
      ],
      "text/plain": [
       "                                          Contenido  Retweets   Likes  \\\n",
       "0                             @PeterSchiff 🤣 thanks       209    7021   \n",
       "1                             @ZubyMusic Absolutely       755   26737   \n",
       "2  Dear Twitter Advertisers https://t.co/GMwHmInPAS     55927  356623   \n",
       "3                                       @BillyM2k 👻       802   19353   \n",
       "4    Meeting a lot of cool people at Twitter today!      9366  195546   \n",
       "\n",
       "                Fecha                               Contenido_limpio  \n",
       "0 2022-10-27 16:17:39                                         thanks  \n",
       "1 2022-10-27 13:19:25                                     absolutely  \n",
       "2 2022-10-27 13:08:00                       dear twitter advertisers  \n",
       "3 2022-10-27 02:32:48                                                 \n",
       "4 2022-10-26 21:39:32  meeting a lot of cool people at twitter today  "
      ]
     },
     "execution_count": 42,
     "metadata": {},
     "output_type": "execute_result"
    }
   ],
   "source": [
    "# Aplicamos la función limpiar_texto a la columna Contenido del DataFrame \n",
    "# ==============================================================================\n",
    "\n",
    "df['Contenido_limpio'] = df['Contenido'].apply(lambda x: limpiar_texto(x))\n",
    "\n",
    "# Verificamos que se haya creado la nueva columna Contenido_limpio\n",
    "# ==============================================================================\n",
    "\n",
    "df.head(5)"
   ]
  },
  {
   "cell_type": "markdown",
   "metadata": {},
   "source": [
    "Esta limpieza preliminar nos permitirá enfocarnos en el contenido relevante de los tweets, eliminando el ruido que podría interferir en el análisis. De este modo, estaremos mejor preparados para extraer información valiosa sobre los patrones de lenguaje y los temas predominantes de las publicaciones de Elon Musk.\n"
   ]
  },
  {
   "cell_type": "markdown",
   "metadata": {},
   "source": [
    "# 4. Análisis Exploratorio\n",
    "\n",
    "A continuación, realizaremos un análisis exploratorio con el objetivo de comprender los patrones de comportamiento y las palabras más utilizadas por Elon Musk en sus tweets. Para empezar, analizaremos el rango de fechas cubierto por el conjunto de datos. Esto nos permitirá conocer el periodo durante el cual se extrajeron los tweets de la plataforma X y nos ayudará a contextualizar mejor las publicaciones y cualquier tendencia temporal observada."
   ]
  },
  {
   "cell_type": "code",
   "execution_count": 43,
   "metadata": {},
   "outputs": [
    {
     "name": "stdout",
     "output_type": "stream",
     "text": [
      "Fecha mas antigua:  27-01-2022\n",
      "Fecha mas reciente:  27-10-2022 \n",
      "\n",
      "El rango de fechas de los Tweets de Elon Musk es de 8 meses y 29 días\n"
     ]
    }
   ],
   "source": [
    "# # Calculamos el rango de fechas de los Tweets de Elon Musk \n",
    "# # ==============================================================================\n",
    "\n",
    "fecha_min = df[\"Fecha\"].min()\n",
    "print('Fecha mas antigua: ', fecha_min.strftime('%d-%m-%Y'))\n",
    "\n",
    "fecha_max = df[\"Fecha\"].max()\n",
    "print('Fecha mas reciente: ', fecha_max.strftime('%d-%m-%Y'), '\\n' )\n",
    "\n",
    "rango_fecha_tweets = relativedelta(fecha_max, fecha_min)\n",
    "print(f'El rango de fechas de los Tweets de Elon Musk es de {rango_fecha_tweets.months} meses y {rango_fecha_tweets.days} días')\n"
   ]
  },
  {
   "cell_type": "markdown",
   "metadata": {},
   "source": [
    "Se puede observar que la extracción de los tweets realizados por Elon Musk abarca desde el 27 de enero de 2022 hasta el 27 de octubre del mismo año, lo que nos da un lapso de 10 meses en los que se han recopilado todos sus tweets dentro de este rango de tiempo. Este periodo nos permitirá analizar su actividad a lo largo del año y detectar posibles cambios o patrones en su comportamiento en la plataforma.\n"
   ]
  },
  {
   "cell_type": "markdown",
   "metadata": {},
   "source": [
    "## 4.1 Cantidad de Tweets a lo largo del tiempo\n",
    "Lo siguiente que vamos a analizar es la cantidad de tweets realizados a lo largo del tiempo para identificar variaciones en su frecuencia de publicación"
   ]
  },
  {
   "cell_type": "code",
   "execution_count": 44,
   "metadata": {},
   "outputs": [
    {
     "data": {
      "image/png": "[encoded data removed]",
      "text/plain": [
       "<Figure size 1500x500 with 1 Axes>"
      ]
     },
     "metadata": {},
     "output_type": "display_data"
    }
   ],
   "source": [
    "# Creamos la figura y los ejes\n",
    "# ==========================================================================\n",
    "\n",
    "fig, axes = plt.subplots(nrows=1, ncols=1, figsize=(15, 5))\n",
    "\n",
    "# Agrupamos los datos por fecha y contamos el número de Tweets por mes\n",
    "# ==========================================================================\n",
    "df_Agrupado = df['Fecha'].groupby(df['Fecha'].dt.to_period('M')).agg('count')\n",
    "\n",
    "df_Agrupado.plot()\n",
    "\n",
    "max_tweets = df_Agrupado.max()\n",
    "\n",
    "axes.axvline(x = df_Agrupado.idxmax(), color = 'purple', linestyle = '--', lw = 1)\n",
    "axes.text('2022-5-30', max_tweets, max_tweets, color = 'purple', fontsize = 12, weight= 'bold')\n",
    "axes.set_title('Número de Tweets de Elon Musk por mes', fontsize= 15, weight= 'bold')\n",
    "axes.set_xlabel('Fecha')\n",
    "axes.set_ylabel('Número de Tweets');"
   ]
  },
  {
   "cell_type": "markdown",
   "metadata": {},
   "source": [
    "A partir de la gráfica que muestra la cantidad de tweets realizados por Elon Musk a lo largo del tiempo, podemos observar un pico notable en el mes de mayo, destacándose considerablemente en comparación con los otros meses presentes en el conjunto de datos. Es importante señalar que cuando hablamos de 'tweets', estamos considerando tanto las publicaciones originales como las respuestas o comentarios que Elon Musk ha hecho en la plataforma X, ya que todas estas interacciones se contabilizan como tweets.\n",
    "\n",
    "Este comportamiento inusual en mayo podría indicar una mayor actividad o interacción del usuario durante ese mes, ya sea por eventos específicos, noticias o debates en los que estuvo involucrado. Para comprender mejor este comportamiento, vamos a realizar un análisis más detallado del mes de mayo, enfocándonos en los días en los que Elon Musk fue más activo en la plataforma X."
   ]
  },
  {
   "cell_type": "code",
   "execution_count": 45,
   "metadata": {},
   "outputs": [
    {
     "data": {
      "image/png": "[encoded data removed]",
      "text/plain": [
       "<Figure size 1500x500 with 1 Axes>"
      ]
     },
     "metadata": {},
     "output_type": "display_data"
    }
   ],
   "source": [
    "# Creamos la figura y los ejes\n",
    "# ==========================================================================\n",
    "fig, axes = plt.subplots(nrows=1, ncols=1, figsize=(15, 5))\n",
    "\n",
    "# Seleccionamos los datos de acuerdo con el mes de Mayo y contamos el número de Tweets por día\n",
    "# ==========================================================================\n",
    "df_Agrupado = df[df['Fecha'].dt.month == 5]['Fecha'].groupby(df['Fecha'].dt.to_period('D')).agg('count')\n",
    "rango_fechas = pd.date_range(start='2022-05-01', end='2022-05-31', freq='D').to_period('D')\n",
    "df_Agrupado = df_Agrupado.reindex(rango_fechas, fill_value=0)\n",
    "\n",
    "df_Agrupado.plot(ax=axes)\n",
    "\n",
    "max_date = df_Agrupado.idxmax()\n",
    "max_value = df_Agrupado.max()\n",
    "axes.axvline(x=max_date, color='purple', linestyle='--', lw=1)\n",
    "axes.text(max_date.to_timestamp(), max_value, f'{max_value}', color='purple', fontsize=12, weight='bold')\n",
    "\n",
    "# Configuramos el título y las etiquetas\n",
    "# ==========================================================================\n",
    "axes.set_title('Número de Tweets de Elon Musk por día en Mayo', fontsize=15, weight='bold')\n",
    "axes.set_ylabel('Número de Tweets')\n",
    "axes.set_xlabel('Día de Mayo')\n",
    "axes.set_xticks(rango_fechas.to_timestamp())\n",
    "axes.set_xticklabels(rango_fechas.strftime('%d'))\n",
    "\n",
    "plt.show()"
   ]
  },
  {
   "cell_type": "markdown",
   "metadata": {},
   "source": [
    "Se puede observar que el mayor repunte de tweets por parte de Elon Musk ocurrió el 20 de mayo de 2022, con un total de 41 tweets en un solo día. Este nivel inusual de actividad sugiere que algo significativo pudo haber impulsado esa interacción intensa en la plataforma X. Para entender mejor las razones detrás de este comportamiento, vamos a examinar los tweets de Elon Musk que recibieron más *'Likes'* ese día. Al hacerlo, podremos identificar los temas principales que generaron mayor interés o interacción en la plataforma y explorar las posibles causas de este aumento en su actividad."
   ]
  },
  {
   "cell_type": "code",
   "execution_count": 46,
   "metadata": {},
   "outputs": [
    {
     "data": {
      "text/html": [
       "<div>\n",
       "<style scoped>\n",
       "    .dataframe tbody tr th:only-of-type {\n",
       "        vertical-align: middle;\n",
       "    }\n",
       "\n",
       "    .dataframe tbody tr th {\n",
       "        vertical-align: top;\n",
       "    }\n",
       "\n",
       "    .dataframe thead th {\n",
       "        text-align: right;\n",
       "    }\n",
       "</style>\n",
       "<table border=\"1\" class=\"dataframe\">\n",
       "  <thead>\n",
       "    <tr style=\"text-align: right;\">\n",
       "      <th></th>\n",
       "      <th>Contenido</th>\n",
       "      <th>Retweets</th>\n",
       "      <th>Likes</th>\n",
       "      <th>Fecha</th>\n",
       "      <th>Contenido_limpio</th>\n",
       "    </tr>\n",
       "  </thead>\n",
       "  <tbody>\n",
       "    <tr>\n",
       "      <th>1892</th>\n",
       "      <td>The attacks against me should be viewed throug...</td>\n",
       "      <td>78978</td>\n",
       "      <td>714253</td>\n",
       "      <td>2022-05-20 03:28:32</td>\n",
       "      <td>the attacks against me should be viewed throug...</td>\n",
       "    </tr>\n",
       "    <tr>\n",
       "      <th>1881</th>\n",
       "      <td>Super excited to be in Brazil for launch of St...</td>\n",
       "      <td>52938</td>\n",
       "      <td>588231</td>\n",
       "      <td>2022-05-20 13:40:48</td>\n",
       "      <td>super excited to be in brazil for launch of st...</td>\n",
       "    </tr>\n",
       "    <tr>\n",
       "      <th>1887</th>\n",
       "      <td>Finally, we get to use Elongate as scandal nam...</td>\n",
       "      <td>25935</td>\n",
       "      <td>280993</td>\n",
       "      <td>2022-05-20 05:43:53</td>\n",
       "      <td>finally we get to use elongate as scandal name...</td>\n",
       "    </tr>\n",
       "    <tr>\n",
       "      <th>1871</th>\n",
       "      <td>Sus man</td>\n",
       "      <td>20585</td>\n",
       "      <td>249480</td>\n",
       "      <td>2022-05-20 19:28:26</td>\n",
       "      <td>sus man</td>\n",
       "    </tr>\n",
       "    <tr>\n",
       "      <th>1867</th>\n",
       "      <td>Tesla is building a hardcore litigation depart...</td>\n",
       "      <td>22204</td>\n",
       "      <td>214590</td>\n",
       "      <td>2022-05-20 20:28:56</td>\n",
       "      <td>tesla is building a hardcore litigation depart...</td>\n",
       "    </tr>\n",
       "  </tbody>\n",
       "</table>\n",
       "</div>"
      ],
      "text/plain": [
       "                                              Contenido  Retweets   Likes  \\\n",
       "1892  The attacks against me should be viewed throug...     78978  714253   \n",
       "1881  Super excited to be in Brazil for launch of St...     52938  588231   \n",
       "1887  Finally, we get to use Elongate as scandal nam...     25935  280993   \n",
       "1871                                            Sus man     20585  249480   \n",
       "1867  Tesla is building a hardcore litigation depart...     22204  214590   \n",
       "\n",
       "                   Fecha                                   Contenido_limpio  \n",
       "1892 2022-05-20 03:28:32  the attacks against me should be viewed throug...  \n",
       "1881 2022-05-20 13:40:48  super excited to be in brazil for launch of st...  \n",
       "1887 2022-05-20 05:43:53  finally we get to use elongate as scandal name...  \n",
       "1871 2022-05-20 19:28:26                                            sus man  \n",
       "1867 2022-05-20 20:28:56  tesla is building a hardcore litigation depart...  "
      ]
     },
     "execution_count": 46,
     "metadata": {},
     "output_type": "execute_result"
    }
   ],
   "source": [
    "# Hallamos los Tweets con más Likes del 20 de Mayo de 2022 \n",
    "# ==============================================================================\n",
    "\n",
    "df[(df['Fecha'] > '2022-05-20') & (df['Fecha'] < '2022-05-21')].sort_values('Likes', ascending=False).head(5)"
   ]
  },
  {
   "cell_type": "markdown",
   "metadata": {},
   "source": [
    "Vamos a extraer el contenido de cada tweet para analizar los temas y mensajes que Elon Musk compartió."
   ]
  },
  {
   "cell_type": "code",
   "execution_count": 47,
   "metadata": {},
   "outputs": [
    {
     "name": "stdout",
     "output_type": "stream",
     "text": [
      "Tweet 1: The attacks against me should be viewed through a political lens – this is their standard (despicable) playbook – but nothing will deter me from fighting for a good future and your right to free speech \n",
      "\n",
      "Tweet 2: Super excited to be in Brazil for launch of Starlink for 19,000 unconnected schools in rural areas &amp; environmental monitoring of Amazon! 🇧🇷 🌳 🛰 ♥️ \n",
      "\n",
      "Tweet 3: Finally, we get to use Elongate as scandal name. It’s kinda perfect. 🤣 https://t.co/qSNH7lsn72 \n",
      "\n",
      "Tweet 4: Sus man \n",
      "\n",
      "Tweet 5: Tesla is building a hardcore litigation department where we directly initiate &amp; execute lawsuits. The team will report directly to me. \n",
      "\n",
      "Please send 3 to 5 bullet points describing evidence of exceptional ability.\n",
      "\n",
      "justice@tesla.com \n",
      "\n"
     ]
    }
   ],
   "source": [
    "mensajes = df[(df['Fecha'] > '2022-05-20') & (df['Fecha'] < '2022-05-21')].sort_values('Likes', ascending=False).head(5).Contenido.values\n",
    "\n",
    "for i in enumerate(mensajes):\n",
    "    print(f'Tweet {i[0] + 1}: {i[1]} \\n')\n",
    "    "
   ]
  },
  {
   "cell_type": "markdown",
   "metadata": {},
   "source": [
    "De los tweets realizados por Elon Musk el 20 de mayo de 2022, los temas principales que recibieron más *'Likes'* están relacionados con los siguientes eventos:\n",
    "\n",
    "- El primero, tercero, cuarto, y quinto tweet se refieren a una noticia publicada por un portal de negocios, que afirmaba que Elon Musk había silenciado una denuncia de acoso sexual presentada en 2016 mediante un acuerdo extrajudicial. En estos tweets, Musk refuta dicha acusación y comenta directamente sobre el caso.\n",
    "\n",
    "- El segundo tweet está relacionado con una reunión que Elon Musk sostuvo con el presidente de Brasil, Jair Bolsonaro, en la cual menciona sus planes para llevar internet a 19.000 escuelas rurales en Brasil y utilizar satélites para monitorear la Amazonía."
   ]
  },
  {
   "cell_type": "markdown",
   "metadata": {},
   "source": [
    "## 4.2 Eliminación de Observaciones Vacías del contenido limpio de los Tweets\n",
    "\n",
    "Del conjunto de datos se debe destacar que algunos de los tweets solo contienen menciones o emojis, lo que significa que, al aplicar la función de limpieza, algunas filas han quedado con cadenas vacías en la columna `contenido_limpio`. Estas filas ya no aportan valor al análisis, por lo que es necesario eliminarlas del conjunto de datos para garantizar la calidad y consistencia de los resultados posteriores. Antes de realizar la eliminación, vamos a identificar las observaciones."
   ]
  },
  {
   "cell_type": "code",
   "execution_count": 48,
   "metadata": {},
   "outputs": [
    {
     "data": {
      "text/html": [
       "<div>\n",
       "<style scoped>\n",
       "    .dataframe tbody tr th:only-of-type {\n",
       "        vertical-align: middle;\n",
       "    }\n",
       "\n",
       "    .dataframe tbody tr th {\n",
       "        vertical-align: top;\n",
       "    }\n",
       "\n",
       "    .dataframe thead th {\n",
       "        text-align: right;\n",
       "    }\n",
       "</style>\n",
       "<table border=\"1\" class=\"dataframe\">\n",
       "  <thead>\n",
       "    <tr style=\"text-align: right;\">\n",
       "      <th></th>\n",
       "      <th>Contenido</th>\n",
       "      <th>Retweets</th>\n",
       "      <th>Likes</th>\n",
       "      <th>Fecha</th>\n",
       "      <th>Contenido_limpio</th>\n",
       "    </tr>\n",
       "  </thead>\n",
       "  <tbody>\n",
       "    <tr>\n",
       "      <th>3</th>\n",
       "      <td>@BillyM2k 👻</td>\n",
       "      <td>802</td>\n",
       "      <td>19353</td>\n",
       "      <td>2022-10-27 02:32:48</td>\n",
       "      <td></td>\n",
       "    </tr>\n",
       "    <tr>\n",
       "      <th>6</th>\n",
       "      <td>@dogeofficialceo @mtaibbi 🤣💪</td>\n",
       "      <td>194</td>\n",
       "      <td>3611</td>\n",
       "      <td>2022-10-26 17:18:30</td>\n",
       "      <td></td>\n",
       "    </tr>\n",
       "    <tr>\n",
       "      <th>7</th>\n",
       "      <td>@mtaibbi 🤣</td>\n",
       "      <td>117</td>\n",
       "      <td>2848</td>\n",
       "      <td>2022-10-26 17:14:07</td>\n",
       "      <td></td>\n",
       "    </tr>\n",
       "    <tr>\n",
       "      <th>14</th>\n",
       "      <td>@dontreadonmeow @nytimes 🤣🔥</td>\n",
       "      <td>130</td>\n",
       "      <td>3208</td>\n",
       "      <td>2022-10-26 14:41:26</td>\n",
       "      <td></td>\n",
       "    </tr>\n",
       "    <tr>\n",
       "      <th>21</th>\n",
       "      <td>@dogeofficialceo @DirtyTesLa @rocobasilisk @Sw...</td>\n",
       "      <td>174</td>\n",
       "      <td>3566</td>\n",
       "      <td>2022-10-25 09:16:17</td>\n",
       "      <td></td>\n",
       "    </tr>\n",
       "    <tr>\n",
       "      <th>...</th>\n",
       "      <td>...</td>\n",
       "      <td>...</td>\n",
       "      <td>...</td>\n",
       "      <td>...</td>\n",
       "      <td>...</td>\n",
       "    </tr>\n",
       "    <tr>\n",
       "      <th>3015</th>\n",
       "      <td>@WSJ https://t.co/TowWorRqW9</td>\n",
       "      <td>8654</td>\n",
       "      <td>36611</td>\n",
       "      <td>2022-01-30 20:16:10</td>\n",
       "      <td></td>\n",
       "    </tr>\n",
       "    <tr>\n",
       "      <th>3018</th>\n",
       "      <td>@GailAlfarATX @POTUS @Tesla @JohnnaCrider1 @Sa...</td>\n",
       "      <td>388</td>\n",
       "      <td>8832</td>\n",
       "      <td>2022-01-30 19:43:44</td>\n",
       "      <td></td>\n",
       "    </tr>\n",
       "    <tr>\n",
       "      <th>3025</th>\n",
       "      <td>https://t.co/QEwmhecTmE</td>\n",
       "      <td>35680</td>\n",
       "      <td>310584</td>\n",
       "      <td>2022-01-30 17:38:35</td>\n",
       "      <td></td>\n",
       "    </tr>\n",
       "    <tr>\n",
       "      <th>3028</th>\n",
       "      <td>https://t.co/wTIHLyVkYw</td>\n",
       "      <td>34501</td>\n",
       "      <td>388486</td>\n",
       "      <td>2022-01-30 08:26:30</td>\n",
       "      <td></td>\n",
       "    </tr>\n",
       "    <tr>\n",
       "      <th>3036</th>\n",
       "      <td>https://t.co/ryK36jvxNx</td>\n",
       "      <td>23224</td>\n",
       "      <td>215365</td>\n",
       "      <td>2022-01-29 06:48:49</td>\n",
       "      <td></td>\n",
       "    </tr>\n",
       "  </tbody>\n",
       "</table>\n",
       "<p>424 rows × 5 columns</p>\n",
       "</div>"
      ],
      "text/plain": [
       "                                              Contenido  Retweets   Likes  \\\n",
       "3                                           @BillyM2k 👻       802   19353   \n",
       "6                          @dogeofficialceo @mtaibbi 🤣💪       194    3611   \n",
       "7                                            @mtaibbi 🤣       117    2848   \n",
       "14                          @dontreadonmeow @nytimes 🤣🔥       130    3208   \n",
       "21    @dogeofficialceo @DirtyTesLa @rocobasilisk @Sw...       174    3566   \n",
       "...                                                 ...       ...     ...   \n",
       "3015                       @WSJ https://t.co/TowWorRqW9      8654   36611   \n",
       "3018  @GailAlfarATX @POTUS @Tesla @JohnnaCrider1 @Sa...       388    8832   \n",
       "3025                            https://t.co/QEwmhecTmE     35680  310584   \n",
       "3028                            https://t.co/wTIHLyVkYw     34501  388486   \n",
       "3036                            https://t.co/ryK36jvxNx     23224  215365   \n",
       "\n",
       "                   Fecha Contenido_limpio  \n",
       "3    2022-10-27 02:32:48                   \n",
       "6    2022-10-26 17:18:30                   \n",
       "7    2022-10-26 17:14:07                   \n",
       "14   2022-10-26 14:41:26                   \n",
       "21   2022-10-25 09:16:17                   \n",
       "...                  ...              ...  \n",
       "3015 2022-01-30 20:16:10                   \n",
       "3018 2022-01-30 19:43:44                   \n",
       "3025 2022-01-30 17:38:35                   \n",
       "3028 2022-01-30 08:26:30                   \n",
       "3036 2022-01-29 06:48:49                   \n",
       "\n",
       "[424 rows x 5 columns]"
      ]
     },
     "execution_count": 48,
     "metadata": {},
     "output_type": "execute_result"
    }
   ],
   "source": [
    "# Identificamos las observaciones que no tienen contenido después de la limpieza \n",
    "# ==============================================================================\n",
    "\n",
    "df[df['Contenido_limpio'] == '']"
   ]
  },
  {
   "cell_type": "markdown",
   "metadata": {},
   "source": [
    "Una vez identificadas las 424 observaciones, procedemos a eliminarlas del conjunto de datosUna vez identificadas las 424 observaciones que contienen cadenas vacías tras el proceso de limpieza, procedemos a eliminarlas del conjunto de datos para garantizar que solo trabajemos con información relevante en los siguientes análisis"
   ]
  },
  {
   "cell_type": "code",
   "execution_count": 49,
   "metadata": {},
   "outputs": [
    {
     "data": {
      "text/html": [
       "<div>\n",
       "<style scoped>\n",
       "    .dataframe tbody tr th:only-of-type {\n",
       "        vertical-align: middle;\n",
       "    }\n",
       "\n",
       "    .dataframe tbody tr th {\n",
       "        vertical-align: top;\n",
       "    }\n",
       "\n",
       "    .dataframe thead th {\n",
       "        text-align: right;\n",
       "    }\n",
       "</style>\n",
       "<table border=\"1\" class=\"dataframe\">\n",
       "  <thead>\n",
       "    <tr style=\"text-align: right;\">\n",
       "      <th></th>\n",
       "      <th>Contenido</th>\n",
       "      <th>Retweets</th>\n",
       "      <th>Likes</th>\n",
       "      <th>Fecha</th>\n",
       "      <th>Contenido_limpio</th>\n",
       "    </tr>\n",
       "  </thead>\n",
       "  <tbody>\n",
       "    <tr>\n",
       "      <th>0</th>\n",
       "      <td>@PeterSchiff 🤣 thanks</td>\n",
       "      <td>209</td>\n",
       "      <td>7021</td>\n",
       "      <td>2022-10-27 16:17:39</td>\n",
       "      <td>thanks</td>\n",
       "    </tr>\n",
       "    <tr>\n",
       "      <th>1</th>\n",
       "      <td>@ZubyMusic Absolutely</td>\n",
       "      <td>755</td>\n",
       "      <td>26737</td>\n",
       "      <td>2022-10-27 13:19:25</td>\n",
       "      <td>absolutely</td>\n",
       "    </tr>\n",
       "    <tr>\n",
       "      <th>2</th>\n",
       "      <td>Dear Twitter Advertisers https://t.co/GMwHmInPAS</td>\n",
       "      <td>55927</td>\n",
       "      <td>356623</td>\n",
       "      <td>2022-10-27 13:08:00</td>\n",
       "      <td>dear twitter advertisers</td>\n",
       "    </tr>\n",
       "    <tr>\n",
       "      <th>3</th>\n",
       "      <td>Meeting a lot of cool people at Twitter today!</td>\n",
       "      <td>9366</td>\n",
       "      <td>195546</td>\n",
       "      <td>2022-10-26 21:39:32</td>\n",
       "      <td>meeting a lot of cool people at twitter today</td>\n",
       "    </tr>\n",
       "    <tr>\n",
       "      <th>4</th>\n",
       "      <td>Entering Twitter HQ – let that sink in! https:...</td>\n",
       "      <td>145520</td>\n",
       "      <td>1043592</td>\n",
       "      <td>2022-10-26 18:45:58</td>\n",
       "      <td>entering twitter hq let that sink in</td>\n",
       "    </tr>\n",
       "    <tr>\n",
       "      <th>...</th>\n",
       "      <td>...</td>\n",
       "      <td>...</td>\n",
       "      <td>...</td>\n",
       "      <td>...</td>\n",
       "      <td>...</td>\n",
       "    </tr>\n",
       "    <tr>\n",
       "      <th>2631</th>\n",
       "      <td>@LimitingThe @baglino Just that manganese is a...</td>\n",
       "      <td>171</td>\n",
       "      <td>3173</td>\n",
       "      <td>2022-01-27 22:01:06</td>\n",
       "      <td>just that manganese is an alternative to iron ...</td>\n",
       "    </tr>\n",
       "    <tr>\n",
       "      <th>2632</th>\n",
       "      <td>@incentives101 @ICRicardoLara Exactly</td>\n",
       "      <td>145</td>\n",
       "      <td>4234</td>\n",
       "      <td>2022-01-27 21:23:20</td>\n",
       "      <td>exactly</td>\n",
       "    </tr>\n",
       "    <tr>\n",
       "      <th>2633</th>\n",
       "      <td>@ICRicardoLara Your policies are directly resp...</td>\n",
       "      <td>421</td>\n",
       "      <td>6144</td>\n",
       "      <td>2022-01-27 21:13:57</td>\n",
       "      <td>your policies are directly responsible for the...</td>\n",
       "    </tr>\n",
       "    <tr>\n",
       "      <th>2634</th>\n",
       "      <td>@ICRicardoLara You should be voted out of office</td>\n",
       "      <td>484</td>\n",
       "      <td>7029</td>\n",
       "      <td>2022-01-27 21:12:27</td>\n",
       "      <td>you should be voted out of office</td>\n",
       "    </tr>\n",
       "    <tr>\n",
       "      <th>2635</th>\n",
       "      <td>CB radios are free from govt/media control</td>\n",
       "      <td>11302</td>\n",
       "      <td>113429</td>\n",
       "      <td>2022-01-27 21:00:09</td>\n",
       "      <td>cb radios are free from govtmedia control</td>\n",
       "    </tr>\n",
       "  </tbody>\n",
       "</table>\n",
       "<p>2636 rows × 5 columns</p>\n",
       "</div>"
      ],
      "text/plain": [
       "                                              Contenido  Retweets    Likes  \\\n",
       "0                                 @PeterSchiff 🤣 thanks       209     7021   \n",
       "1                                 @ZubyMusic Absolutely       755    26737   \n",
       "2      Dear Twitter Advertisers https://t.co/GMwHmInPAS     55927   356623   \n",
       "3        Meeting a lot of cool people at Twitter today!      9366   195546   \n",
       "4     Entering Twitter HQ – let that sink in! https:...    145520  1043592   \n",
       "...                                                 ...       ...      ...   \n",
       "2631  @LimitingThe @baglino Just that manganese is a...       171     3173   \n",
       "2632              @incentives101 @ICRicardoLara Exactly       145     4234   \n",
       "2633  @ICRicardoLara Your policies are directly resp...       421     6144   \n",
       "2634   @ICRicardoLara You should be voted out of office       484     7029   \n",
       "2635         CB radios are free from govt/media control     11302   113429   \n",
       "\n",
       "                   Fecha                                   Contenido_limpio  \n",
       "0    2022-10-27 16:17:39                                             thanks  \n",
       "1    2022-10-27 13:19:25                                         absolutely  \n",
       "2    2022-10-27 13:08:00                           dear twitter advertisers  \n",
       "3    2022-10-26 21:39:32      meeting a lot of cool people at twitter today  \n",
       "4    2022-10-26 18:45:58               entering twitter hq let that sink in  \n",
       "...                  ...                                                ...  \n",
       "2631 2022-01-27 22:01:06  just that manganese is an alternative to iron ...  \n",
       "2632 2022-01-27 21:23:20                                            exactly  \n",
       "2633 2022-01-27 21:13:57  your policies are directly responsible for the...  \n",
       "2634 2022-01-27 21:12:27                  you should be voted out of office  \n",
       "2635 2022-01-27 21:00:09          cb radios are free from govtmedia control  \n",
       "\n",
       "[2636 rows x 5 columns]"
      ]
     },
     "execution_count": 49,
     "metadata": {},
     "output_type": "execute_result"
    }
   ],
   "source": [
    "# Eliminamos las observaciones que no tienen contenido después de la limpieza\n",
    "# ==============================================================================\n",
    "\n",
    "df.drop(df[df['Contenido_limpio'] == ''].index, inplace=True)\n",
    "df.reset_index(drop=True, inplace=True)\n",
    "\n",
    "df"
   ]
  },
  {
   "cell_type": "markdown",
   "metadata": {},
   "source": [
    "Se puede observar que la eliminación de las observaciones con contenido vacío se ha realizado correctamente. Esto nos asegura que solo estamos trabajando con tweets que contienen información relevante para nuestro análisis. Ademas, es necesario eliminar el contenido que solo contenga una letra, ya que no nos proporciona información relevante para el análisis"
   ]
  },
  {
   "cell_type": "code",
   "execution_count": 50,
   "metadata": {},
   "outputs": [
    {
     "data": {
      "text/html": [
       "<div>\n",
       "<style scoped>\n",
       "    .dataframe tbody tr th:only-of-type {\n",
       "        vertical-align: middle;\n",
       "    }\n",
       "\n",
       "    .dataframe tbody tr th {\n",
       "        vertical-align: top;\n",
       "    }\n",
       "\n",
       "    .dataframe thead th {\n",
       "        text-align: right;\n",
       "    }\n",
       "</style>\n",
       "<table border=\"1\" class=\"dataframe\">\n",
       "  <thead>\n",
       "    <tr style=\"text-align: right;\">\n",
       "      <th></th>\n",
       "      <th>Contenido</th>\n",
       "      <th>Retweets</th>\n",
       "      <th>Likes</th>\n",
       "      <th>Fecha</th>\n",
       "      <th>Contenido_limpio</th>\n",
       "    </tr>\n",
       "  </thead>\n",
       "  <tbody>\n",
       "    <tr>\n",
       "      <th>0</th>\n",
       "      <td>@PeterSchiff 🤣 thanks</td>\n",
       "      <td>209</td>\n",
       "      <td>7021</td>\n",
       "      <td>2022-10-27 16:17:39</td>\n",
       "      <td>thanks</td>\n",
       "    </tr>\n",
       "    <tr>\n",
       "      <th>1</th>\n",
       "      <td>@ZubyMusic Absolutely</td>\n",
       "      <td>755</td>\n",
       "      <td>26737</td>\n",
       "      <td>2022-10-27 13:19:25</td>\n",
       "      <td>absolutely</td>\n",
       "    </tr>\n",
       "    <tr>\n",
       "      <th>2</th>\n",
       "      <td>Dear Twitter Advertisers https://t.co/GMwHmInPAS</td>\n",
       "      <td>55927</td>\n",
       "      <td>356623</td>\n",
       "      <td>2022-10-27 13:08:00</td>\n",
       "      <td>dear twitter advertisers</td>\n",
       "    </tr>\n",
       "    <tr>\n",
       "      <th>3</th>\n",
       "      <td>Meeting a lot of cool people at Twitter today!</td>\n",
       "      <td>9366</td>\n",
       "      <td>195546</td>\n",
       "      <td>2022-10-26 21:39:32</td>\n",
       "      <td>meeting a lot of cool people at twitter today</td>\n",
       "    </tr>\n",
       "    <tr>\n",
       "      <th>4</th>\n",
       "      <td>Entering Twitter HQ – let that sink in! https:...</td>\n",
       "      <td>145520</td>\n",
       "      <td>1043592</td>\n",
       "      <td>2022-10-26 18:45:58</td>\n",
       "      <td>entering twitter hq let that sink in</td>\n",
       "    </tr>\n",
       "    <tr>\n",
       "      <th>...</th>\n",
       "      <td>...</td>\n",
       "      <td>...</td>\n",
       "      <td>...</td>\n",
       "      <td>...</td>\n",
       "      <td>...</td>\n",
       "    </tr>\n",
       "    <tr>\n",
       "      <th>2631</th>\n",
       "      <td>@LimitingThe @baglino Just that manganese is a...</td>\n",
       "      <td>171</td>\n",
       "      <td>3173</td>\n",
       "      <td>2022-01-27 22:01:06</td>\n",
       "      <td>just that manganese is an alternative to iron ...</td>\n",
       "    </tr>\n",
       "    <tr>\n",
       "      <th>2632</th>\n",
       "      <td>@incentives101 @ICRicardoLara Exactly</td>\n",
       "      <td>145</td>\n",
       "      <td>4234</td>\n",
       "      <td>2022-01-27 21:23:20</td>\n",
       "      <td>exactly</td>\n",
       "    </tr>\n",
       "    <tr>\n",
       "      <th>2633</th>\n",
       "      <td>@ICRicardoLara Your policies are directly resp...</td>\n",
       "      <td>421</td>\n",
       "      <td>6144</td>\n",
       "      <td>2022-01-27 21:13:57</td>\n",
       "      <td>your policies are directly responsible for the...</td>\n",
       "    </tr>\n",
       "    <tr>\n",
       "      <th>2634</th>\n",
       "      <td>@ICRicardoLara You should be voted out of office</td>\n",
       "      <td>484</td>\n",
       "      <td>7029</td>\n",
       "      <td>2022-01-27 21:12:27</td>\n",
       "      <td>you should be voted out of office</td>\n",
       "    </tr>\n",
       "    <tr>\n",
       "      <th>2635</th>\n",
       "      <td>CB radios are free from govt/media control</td>\n",
       "      <td>11302</td>\n",
       "      <td>113429</td>\n",
       "      <td>2022-01-27 21:00:09</td>\n",
       "      <td>cb radios are free from govtmedia control</td>\n",
       "    </tr>\n",
       "  </tbody>\n",
       "</table>\n",
       "<p>2633 rows × 5 columns</p>\n",
       "</div>"
      ],
      "text/plain": [
       "                                              Contenido  Retweets    Likes  \\\n",
       "0                                 @PeterSchiff 🤣 thanks       209     7021   \n",
       "1                                 @ZubyMusic Absolutely       755    26737   \n",
       "2      Dear Twitter Advertisers https://t.co/GMwHmInPAS     55927   356623   \n",
       "3        Meeting a lot of cool people at Twitter today!      9366   195546   \n",
       "4     Entering Twitter HQ – let that sink in! https:...    145520  1043592   \n",
       "...                                                 ...       ...      ...   \n",
       "2631  @LimitingThe @baglino Just that manganese is a...       171     3173   \n",
       "2632              @incentives101 @ICRicardoLara Exactly       145     4234   \n",
       "2633  @ICRicardoLara Your policies are directly resp...       421     6144   \n",
       "2634   @ICRicardoLara You should be voted out of office       484     7029   \n",
       "2635         CB radios are free from govt/media control     11302   113429   \n",
       "\n",
       "                   Fecha                                   Contenido_limpio  \n",
       "0    2022-10-27 16:17:39                                             thanks  \n",
       "1    2022-10-27 13:19:25                                         absolutely  \n",
       "2    2022-10-27 13:08:00                           dear twitter advertisers  \n",
       "3    2022-10-26 21:39:32      meeting a lot of cool people at twitter today  \n",
       "4    2022-10-26 18:45:58               entering twitter hq let that sink in  \n",
       "...                  ...                                                ...  \n",
       "2631 2022-01-27 22:01:06  just that manganese is an alternative to iron ...  \n",
       "2632 2022-01-27 21:23:20                                            exactly  \n",
       "2633 2022-01-27 21:13:57  your policies are directly responsible for the...  \n",
       "2634 2022-01-27 21:12:27                  you should be voted out of office  \n",
       "2635 2022-01-27 21:00:09          cb radios are free from govtmedia control  \n",
       "\n",
       "[2633 rows x 5 columns]"
      ]
     },
     "execution_count": 50,
     "metadata": {},
     "output_type": "execute_result"
    }
   ],
   "source": [
    "# Eliminamos los Tweets que están formados por una sola letra\n",
    "# ==============================================================================\n",
    "\n",
    "df.drop(df[df['Contenido_limpio'].str.len() == 1].index, inplace=True)\n",
    "\n",
    "df.reset_index()\n",
    "df"
   ]
  },
  {
   "cell_type": "markdown",
   "metadata": {},
   "source": [
    "## 4.3 Tokenización de Texto\n",
    "A continuación, vamos a realizar la tokenización del contenido limpio de los tweets del conjunto de datos. La tokenización consiste en dividir el texto en unidades más pequeñas, conocidas como tokens. Un token es el elemento más simple que tiene significado propio en el análisis de texto. Esta técnica es fundamental para poder identificar palabras, frases o patrones en el texto. Además, eliminaremos los tokens que tengan una longitud menor a dos caracteres, ya que normalmente no aportan valor semántico o relevante al análisis (como letras sueltas o abreviaciones muy cortas)."
   ]
  },
  {
   "cell_type": "code",
   "execution_count": 51,
   "metadata": {},
   "outputs": [],
   "source": [
    "# Creamos una función para tokenizar el texto de los Tweets\n",
    "# ==============================================================================\n",
    "\n",
    "def tokenizar_texto(texto):\n",
    "    \n",
    "    # Dividimos el texto en palabras\n",
    "    # ===========================================================================\n",
    "    palabras = texto.split(sep=' ')\n",
    "    \n",
    "    # Eliminacion de Tokens que tengan una longitud menor a 2 caracteres\n",
    "    # ===========================================================================\n",
    "    palabras = [palabra for palabra in palabras if len(palabra) > 1]\n",
    "    \n",
    "    # Retornamos el texto tokenizado\n",
    "    # ===========================================================================\n",
    "    return palabras"
   ]
  },
  {
   "cell_type": "markdown",
   "metadata": {},
   "source": [
    "Vamos a comprobar que la Tokenización se realice de la manera correcta"
   ]
  },
  {
   "cell_type": "code",
   "execution_count": 52,
   "metadata": {},
   "outputs": [
    {
     "name": "stdout",
     "output_type": "stream",
     "text": [
      "Texto tokenizado:  ['Este', 'es', 'un', 'mensaje', 'de', 'prueba', 'para', 'tokenizar', 'el', 'texto,', 'ver', 'si', 'funciona', 'correctamente']\n"
     ]
    }
   ],
   "source": [
    "#Comprobamos que la función tokenizar_texto funcione correctamente\n",
    "# ===========================================================================\n",
    "\n",
    "mensaje = 'Este es un mensaje de prueba para tokenizar el texto, a ver si funciona correctamente'\n",
    "\n",
    "print('Texto tokenizado: ', tokenizar_texto(mensaje))"
   ]
  },
  {
   "cell_type": "markdown",
   "metadata": {},
   "source": [
    "Se puede observar que la tokenización se ha realizado de manera adecuada. Además, las palabras formadas por una sola letra, como 'a', no han sido incluidas en el proceso de tokenización, lo que asegura que estamos trabajando solo con tokens relevantes. Ahora procederemos a aplicar la tokenización a todas las observaciones del conjunto de datos para continuar con el análisis."
   ]
  },
  {
   "cell_type": "code",
   "execution_count": 53,
   "metadata": {},
   "outputs": [
    {
     "data": {
      "text/html": [
       "<div>\n",
       "<style scoped>\n",
       "    .dataframe tbody tr th:only-of-type {\n",
       "        vertical-align: middle;\n",
       "    }\n",
       "\n",
       "    .dataframe tbody tr th {\n",
       "        vertical-align: top;\n",
       "    }\n",
       "\n",
       "    .dataframe thead th {\n",
       "        text-align: right;\n",
       "    }\n",
       "</style>\n",
       "<table border=\"1\" class=\"dataframe\">\n",
       "  <thead>\n",
       "    <tr style=\"text-align: right;\">\n",
       "      <th></th>\n",
       "      <th>Contenido_limpio</th>\n",
       "      <th>Contenido_tokenizado</th>\n",
       "    </tr>\n",
       "  </thead>\n",
       "  <tbody>\n",
       "    <tr>\n",
       "      <th>0</th>\n",
       "      <td>thanks</td>\n",
       "      <td>[thanks]</td>\n",
       "    </tr>\n",
       "    <tr>\n",
       "      <th>1</th>\n",
       "      <td>absolutely</td>\n",
       "      <td>[absolutely]</td>\n",
       "    </tr>\n",
       "    <tr>\n",
       "      <th>2</th>\n",
       "      <td>dear twitter advertisers</td>\n",
       "      <td>[dear, twitter, advertisers]</td>\n",
       "    </tr>\n",
       "    <tr>\n",
       "      <th>3</th>\n",
       "      <td>meeting a lot of cool people at twitter today</td>\n",
       "      <td>[meeting, lot, of, cool, people, at, twitter, ...</td>\n",
       "    </tr>\n",
       "    <tr>\n",
       "      <th>4</th>\n",
       "      <td>entering twitter hq let that sink in</td>\n",
       "      <td>[entering, twitter, hq, let, that, sink, in]</td>\n",
       "    </tr>\n",
       "    <tr>\n",
       "      <th>5</th>\n",
       "      <td>definitely closer to citizen journalism local ...</td>\n",
       "      <td>[definitely, closer, to, citizen, journalism, ...</td>\n",
       "    </tr>\n",
       "    <tr>\n",
       "      <th>6</th>\n",
       "      <td>nobody bats</td>\n",
       "      <td>[nobody, bats]</td>\n",
       "    </tr>\n",
       "    <tr>\n",
       "      <th>7</th>\n",
       "      <td>a beautiful thing about twitter is how it empo...</td>\n",
       "      <td>[beautiful, thing, about, twitter, is, how, it...</td>\n",
       "    </tr>\n",
       "    <tr>\n",
       "      <th>8</th>\n",
       "      <td>im a big fan of citizen journalism</td>\n",
       "      <td>[im, big, fan, of, citizen, journalism]</td>\n",
       "    </tr>\n",
       "    <tr>\n",
       "      <th>9</th>\n",
       "      <td>according to unnamed sources close to the matt...</td>\n",
       "      <td>[according, to, unnamed, sources, close, to, t...</td>\n",
       "    </tr>\n",
       "  </tbody>\n",
       "</table>\n",
       "</div>"
      ],
      "text/plain": [
       "                                    Contenido_limpio  \\\n",
       "0                                             thanks   \n",
       "1                                         absolutely   \n",
       "2                           dear twitter advertisers   \n",
       "3      meeting a lot of cool people at twitter today   \n",
       "4               entering twitter hq let that sink in   \n",
       "5  definitely closer to citizen journalism local ...   \n",
       "6                                        nobody bats   \n",
       "7  a beautiful thing about twitter is how it empo...   \n",
       "8                 im a big fan of citizen journalism   \n",
       "9  according to unnamed sources close to the matt...   \n",
       "\n",
       "                                Contenido_tokenizado  \n",
       "0                                           [thanks]  \n",
       "1                                       [absolutely]  \n",
       "2                       [dear, twitter, advertisers]  \n",
       "3  [meeting, lot, of, cool, people, at, twitter, ...  \n",
       "4       [entering, twitter, hq, let, that, sink, in]  \n",
       "5  [definitely, closer, to, citizen, journalism, ...  \n",
       "6                                     [nobody, bats]  \n",
       "7  [beautiful, thing, about, twitter, is, how, it...  \n",
       "8            [im, big, fan, of, citizen, journalism]  \n",
       "9  [according, to, unnamed, sources, close, to, t...  "
      ]
     },
     "execution_count": 53,
     "metadata": {},
     "output_type": "execute_result"
    }
   ],
   "source": [
    "# Aplicamos la función tokenizar_texto a la columna Contenido_limpio del DataFrame\n",
    "# ===========================================================================\n",
    "\n",
    "df['Contenido_tokenizado'] = df['Contenido_limpio'].apply(lambda x: tokenizar_texto(x))\n",
    "df[['Contenido_limpio', 'Contenido_tokenizado']].head(10)"
   ]
  },
  {
   "cell_type": "markdown",
   "metadata": {},
   "source": [
    "Una vez realizada la tokenización, es importante notar que a cada observación le corresponde un arreglo con un número variable de tokens. Esto puede dificultar el análisis, ya que realizar operaciones sobre cada token individualmente se vuelve más complejo. Por ello, es necesario expandir la lista de tokens de manera que a cada observación le corresponda un solo token. A este proceso se le conoce como 'expansión' o 'unnest'. Aunque pueda parecer poco eficiente, ya que aumenta significativamente la cantidad de filas en el DataFrame, este cambio facilita operaciones clave como la agrupación, el conteo y la generación de gráficos.\n",
    "\n",
    "Sin embargo, antes de realizar este proceso, es necesario añadir un identificador (Id) a cada Tweet. Esto nos permitirá identificar fácilmente cuáles tokens pertenecen a un Tweet en particular, asegurando que podamos rastrear y analizar la información de manera más efectiva\n",
    "\n"
   ]
  },
  {
   "cell_type": "code",
   "execution_count": 54,
   "metadata": {},
   "outputs": [
    {
     "data": {
      "text/html": [
       "<div>\n",
       "<style scoped>\n",
       "    .dataframe tbody tr th:only-of-type {\n",
       "        vertical-align: middle;\n",
       "    }\n",
       "\n",
       "    .dataframe tbody tr th {\n",
       "        vertical-align: top;\n",
       "    }\n",
       "\n",
       "    .dataframe thead th {\n",
       "        text-align: right;\n",
       "    }\n",
       "</style>\n",
       "<table border=\"1\" class=\"dataframe\">\n",
       "  <thead>\n",
       "    <tr style=\"text-align: right;\">\n",
       "      <th></th>\n",
       "      <th>Contenido</th>\n",
       "      <th>Retweets</th>\n",
       "      <th>Likes</th>\n",
       "      <th>Fecha</th>\n",
       "      <th>Contenido_limpio</th>\n",
       "      <th>Contenido_tokenizado</th>\n",
       "      <th>Id</th>\n",
       "    </tr>\n",
       "  </thead>\n",
       "  <tbody>\n",
       "    <tr>\n",
       "      <th>0</th>\n",
       "      <td>@PeterSchiff 🤣 thanks</td>\n",
       "      <td>209</td>\n",
       "      <td>7021</td>\n",
       "      <td>2022-10-27 16:17:39</td>\n",
       "      <td>thanks</td>\n",
       "      <td>[thanks]</td>\n",
       "      <td>1</td>\n",
       "    </tr>\n",
       "    <tr>\n",
       "      <th>1</th>\n",
       "      <td>@ZubyMusic Absolutely</td>\n",
       "      <td>755</td>\n",
       "      <td>26737</td>\n",
       "      <td>2022-10-27 13:19:25</td>\n",
       "      <td>absolutely</td>\n",
       "      <td>[absolutely]</td>\n",
       "      <td>2</td>\n",
       "    </tr>\n",
       "    <tr>\n",
       "      <th>2</th>\n",
       "      <td>Dear Twitter Advertisers https://t.co/GMwHmInPAS</td>\n",
       "      <td>55927</td>\n",
       "      <td>356623</td>\n",
       "      <td>2022-10-27 13:08:00</td>\n",
       "      <td>dear twitter advertisers</td>\n",
       "      <td>[dear, twitter, advertisers]</td>\n",
       "      <td>3</td>\n",
       "    </tr>\n",
       "    <tr>\n",
       "      <th>3</th>\n",
       "      <td>Meeting a lot of cool people at Twitter today!</td>\n",
       "      <td>9366</td>\n",
       "      <td>195546</td>\n",
       "      <td>2022-10-26 21:39:32</td>\n",
       "      <td>meeting a lot of cool people at twitter today</td>\n",
       "      <td>[meeting, lot, of, cool, people, at, twitter, ...</td>\n",
       "      <td>4</td>\n",
       "    </tr>\n",
       "    <tr>\n",
       "      <th>4</th>\n",
       "      <td>Entering Twitter HQ – let that sink in! https:...</td>\n",
       "      <td>145520</td>\n",
       "      <td>1043592</td>\n",
       "      <td>2022-10-26 18:45:58</td>\n",
       "      <td>entering twitter hq let that sink in</td>\n",
       "      <td>[entering, twitter, hq, let, that, sink, in]</td>\n",
       "      <td>5</td>\n",
       "    </tr>\n",
       "    <tr>\n",
       "      <th>...</th>\n",
       "      <td>...</td>\n",
       "      <td>...</td>\n",
       "      <td>...</td>\n",
       "      <td>...</td>\n",
       "      <td>...</td>\n",
       "      <td>...</td>\n",
       "      <td>...</td>\n",
       "    </tr>\n",
       "    <tr>\n",
       "      <th>2631</th>\n",
       "      <td>@LimitingThe @baglino Just that manganese is a...</td>\n",
       "      <td>171</td>\n",
       "      <td>3173</td>\n",
       "      <td>2022-01-27 22:01:06</td>\n",
       "      <td>just that manganese is an alternative to iron ...</td>\n",
       "      <td>[just, that, manganese, is, an, alternative, t...</td>\n",
       "      <td>2629</td>\n",
       "    </tr>\n",
       "    <tr>\n",
       "      <th>2632</th>\n",
       "      <td>@incentives101 @ICRicardoLara Exactly</td>\n",
       "      <td>145</td>\n",
       "      <td>4234</td>\n",
       "      <td>2022-01-27 21:23:20</td>\n",
       "      <td>exactly</td>\n",
       "      <td>[exactly]</td>\n",
       "      <td>2630</td>\n",
       "    </tr>\n",
       "    <tr>\n",
       "      <th>2633</th>\n",
       "      <td>@ICRicardoLara Your policies are directly resp...</td>\n",
       "      <td>421</td>\n",
       "      <td>6144</td>\n",
       "      <td>2022-01-27 21:13:57</td>\n",
       "      <td>your policies are directly responsible for the...</td>\n",
       "      <td>[your, policies, are, directly, responsible, f...</td>\n",
       "      <td>2631</td>\n",
       "    </tr>\n",
       "    <tr>\n",
       "      <th>2634</th>\n",
       "      <td>@ICRicardoLara You should be voted out of office</td>\n",
       "      <td>484</td>\n",
       "      <td>7029</td>\n",
       "      <td>2022-01-27 21:12:27</td>\n",
       "      <td>you should be voted out of office</td>\n",
       "      <td>[you, should, be, voted, out, of, office]</td>\n",
       "      <td>2632</td>\n",
       "    </tr>\n",
       "    <tr>\n",
       "      <th>2635</th>\n",
       "      <td>CB radios are free from govt/media control</td>\n",
       "      <td>11302</td>\n",
       "      <td>113429</td>\n",
       "      <td>2022-01-27 21:00:09</td>\n",
       "      <td>cb radios are free from govtmedia control</td>\n",
       "      <td>[cb, radios, are, free, from, govtmedia, control]</td>\n",
       "      <td>2633</td>\n",
       "    </tr>\n",
       "  </tbody>\n",
       "</table>\n",
       "<p>2633 rows × 7 columns</p>\n",
       "</div>"
      ],
      "text/plain": [
       "                                              Contenido  Retweets    Likes  \\\n",
       "0                                 @PeterSchiff 🤣 thanks       209     7021   \n",
       "1                                 @ZubyMusic Absolutely       755    26737   \n",
       "2      Dear Twitter Advertisers https://t.co/GMwHmInPAS     55927   356623   \n",
       "3        Meeting a lot of cool people at Twitter today!      9366   195546   \n",
       "4     Entering Twitter HQ – let that sink in! https:...    145520  1043592   \n",
       "...                                                 ...       ...      ...   \n",
       "2631  @LimitingThe @baglino Just that manganese is a...       171     3173   \n",
       "2632              @incentives101 @ICRicardoLara Exactly       145     4234   \n",
       "2633  @ICRicardoLara Your policies are directly resp...       421     6144   \n",
       "2634   @ICRicardoLara You should be voted out of office       484     7029   \n",
       "2635         CB radios are free from govt/media control     11302   113429   \n",
       "\n",
       "                   Fecha                                   Contenido_limpio  \\\n",
       "0    2022-10-27 16:17:39                                             thanks   \n",
       "1    2022-10-27 13:19:25                                         absolutely   \n",
       "2    2022-10-27 13:08:00                           dear twitter advertisers   \n",
       "3    2022-10-26 21:39:32      meeting a lot of cool people at twitter today   \n",
       "4    2022-10-26 18:45:58               entering twitter hq let that sink in   \n",
       "...                  ...                                                ...   \n",
       "2631 2022-01-27 22:01:06  just that manganese is an alternative to iron ...   \n",
       "2632 2022-01-27 21:23:20                                            exactly   \n",
       "2633 2022-01-27 21:13:57  your policies are directly responsible for the...   \n",
       "2634 2022-01-27 21:12:27                  you should be voted out of office   \n",
       "2635 2022-01-27 21:00:09          cb radios are free from govtmedia control   \n",
       "\n",
       "                                   Contenido_tokenizado    Id  \n",
       "0                                              [thanks]     1  \n",
       "1                                          [absolutely]     2  \n",
       "2                          [dear, twitter, advertisers]     3  \n",
       "3     [meeting, lot, of, cool, people, at, twitter, ...     4  \n",
       "4          [entering, twitter, hq, let, that, sink, in]     5  \n",
       "...                                                 ...   ...  \n",
       "2631  [just, that, manganese, is, an, alternative, t...  2629  \n",
       "2632                                          [exactly]  2630  \n",
       "2633  [your, policies, are, directly, responsible, f...  2631  \n",
       "2634          [you, should, be, voted, out, of, office]  2632  \n",
       "2635  [cb, radios, are, free, from, govtmedia, control]  2633  \n",
       "\n",
       "[2633 rows x 7 columns]"
      ]
     },
     "execution_count": 54,
     "metadata": {},
     "output_type": "execute_result"
    }
   ],
   "source": [
    "# Añadimos un id a cada Tweet para poder identificarlos de manera única \n",
    "# ===========================================================================\n",
    "\n",
    "df['Id'] = range(1, len(df) + 1)\n",
    "\n",
    "df"
   ]
  },
  {
   "cell_type": "code",
   "execution_count": 55,
   "metadata": {},
   "outputs": [
    {
     "data": {
      "text/html": [
       "<div>\n",
       "<style scoped>\n",
       "    .dataframe tbody tr th:only-of-type {\n",
       "        vertical-align: middle;\n",
       "    }\n",
       "\n",
       "    .dataframe tbody tr th {\n",
       "        vertical-align: top;\n",
       "    }\n",
       "\n",
       "    .dataframe thead th {\n",
       "        text-align: right;\n",
       "    }\n",
       "</style>\n",
       "<table border=\"1\" class=\"dataframe\">\n",
       "  <thead>\n",
       "    <tr style=\"text-align: right;\">\n",
       "      <th></th>\n",
       "      <th>Fecha</th>\n",
       "      <th>Contenido_tokenizado</th>\n",
       "      <th>Id</th>\n",
       "    </tr>\n",
       "  </thead>\n",
       "  <tbody>\n",
       "    <tr>\n",
       "      <th>0</th>\n",
       "      <td>2022-10-27 16:17:39</td>\n",
       "      <td>thanks</td>\n",
       "      <td>1</td>\n",
       "    </tr>\n",
       "    <tr>\n",
       "      <th>1</th>\n",
       "      <td>2022-10-27 13:19:25</td>\n",
       "      <td>absolutely</td>\n",
       "      <td>2</td>\n",
       "    </tr>\n",
       "    <tr>\n",
       "      <th>2</th>\n",
       "      <td>2022-10-27 13:08:00</td>\n",
       "      <td>dear</td>\n",
       "      <td>3</td>\n",
       "    </tr>\n",
       "    <tr>\n",
       "      <th>3</th>\n",
       "      <td>2022-10-27 13:08:00</td>\n",
       "      <td>twitter</td>\n",
       "      <td>3</td>\n",
       "    </tr>\n",
       "    <tr>\n",
       "      <th>4</th>\n",
       "      <td>2022-10-27 13:08:00</td>\n",
       "      <td>advertisers</td>\n",
       "      <td>3</td>\n",
       "    </tr>\n",
       "    <tr>\n",
       "      <th>...</th>\n",
       "      <td>...</td>\n",
       "      <td>...</td>\n",
       "      <td>...</td>\n",
       "    </tr>\n",
       "    <tr>\n",
       "      <th>29073</th>\n",
       "      <td>2022-01-27 21:00:09</td>\n",
       "      <td>are</td>\n",
       "      <td>2633</td>\n",
       "    </tr>\n",
       "    <tr>\n",
       "      <th>29074</th>\n",
       "      <td>2022-01-27 21:00:09</td>\n",
       "      <td>free</td>\n",
       "      <td>2633</td>\n",
       "    </tr>\n",
       "    <tr>\n",
       "      <th>29075</th>\n",
       "      <td>2022-01-27 21:00:09</td>\n",
       "      <td>from</td>\n",
       "      <td>2633</td>\n",
       "    </tr>\n",
       "    <tr>\n",
       "      <th>29076</th>\n",
       "      <td>2022-01-27 21:00:09</td>\n",
       "      <td>govtmedia</td>\n",
       "      <td>2633</td>\n",
       "    </tr>\n",
       "    <tr>\n",
       "      <th>29077</th>\n",
       "      <td>2022-01-27 21:00:09</td>\n",
       "      <td>control</td>\n",
       "      <td>2633</td>\n",
       "    </tr>\n",
       "  </tbody>\n",
       "</table>\n",
       "<p>29078 rows × 3 columns</p>\n",
       "</div>"
      ],
      "text/plain": [
       "                    Fecha Contenido_tokenizado    Id\n",
       "0     2022-10-27 16:17:39               thanks     1\n",
       "1     2022-10-27 13:19:25           absolutely     2\n",
       "2     2022-10-27 13:08:00                 dear     3\n",
       "3     2022-10-27 13:08:00              twitter     3\n",
       "4     2022-10-27 13:08:00          advertisers     3\n",
       "...                   ...                  ...   ...\n",
       "29073 2022-01-27 21:00:09                  are  2633\n",
       "29074 2022-01-27 21:00:09                 free  2633\n",
       "29075 2022-01-27 21:00:09                 from  2633\n",
       "29076 2022-01-27 21:00:09            govtmedia  2633\n",
       "29077 2022-01-27 21:00:09              control  2633\n",
       "\n",
       "[29078 rows x 3 columns]"
      ]
     },
     "execution_count": 55,
     "metadata": {},
     "output_type": "execute_result"
    }
   ],
   "source": [
    "# Expansión de la columna Contenido_tokenizado\n",
    "# ===========================================================================\n",
    "\n",
    "df_tokenizado = df.explode(column='Contenido_tokenizado', )\n",
    "df_tokenizado = df_tokenizado.drop(columns=['Contenido_limpio', 'Contenido', 'Retweets', 'Likes'])\n",
    "df_tokenizado.reset_index(drop=True, inplace=True)\n",
    "df_tokenizado"
   ]
  },
  {
   "cell_type": "markdown",
   "metadata": {},
   "source": [
    "## 4.4 Frecuencia de Palabras en Los Tweets\n",
    "\n",
    "Ahora procederemos a calcular la cantidad total de palabras que ha utilizado Elon Musk en la plataforma de X a lo largo de los 9 meses que abarca nuestro conjunto de datos, esto nos permitirá comprender mejor su estilo de comunicación y determinar la frecuencia de uso de palabras específicas, de esta forma, podremos identificar términos recurrentes y temas predominantes en sus publicaciones, lo que nos ayudará a obtener información valiosa sobre su enfoque y las áreas de interés que aborda en la plataforma X."
   ]
  },
  {
   "cell_type": "code",
   "execution_count": 56,
   "metadata": {},
   "outputs": [
    {
     "name": "stdout",
     "output_type": "stream",
     "text": [
      "Cantidad total de palabras en los Tweets de Elon Musk:  29078\n"
     ]
    }
   ],
   "source": [
    "# Hallamos la cantidad total de palabras en los Tweets de Elon Musk \n",
    "# ===========================================================================\n",
    "\n",
    "print('Cantidad total de palabras en los Tweets de Elon Musk: ', df_tokenizado.shape[0])"
   ]
  },
  {
   "cell_type": "markdown",
   "metadata": {},
   "source": [
    "Elon Musk ha utilizado un total de 29,081 palabras a lo largo de las publicaciones extraídas en el DataFrame. Ahora procederemos a calcular la cantidad de palabras distintas que ha utilizado el usuario en sus tweets."
   ]
  },
  {
   "cell_type": "code",
   "execution_count": 57,
   "metadata": {},
   "outputs": [
    {
     "name": "stdout",
     "output_type": "stream",
     "text": [
      "Cantidad de palabras únicas en los Tweets de Elon Musk: 5502\n"
     ]
    }
   ],
   "source": [
    "# Hallamos la cantidad de palabras únicas en los Tweets de Elon Musk\n",
    "# ===========================================================================\n",
    "\n",
    "print(f'Cantidad de palabras únicas en los Tweets de Elon Musk: {df_tokenizado.Contenido_tokenizado.nunique()}')"
   ]
  },
  {
   "cell_type": "markdown",
   "metadata": {},
   "source": [
    "Con 29,081 palabras totales y 5,502 únicas, podemos ver que Elon Musk tiene un vocabulario bastante variado, esto nos indica que aborda muchos temas diferentes y usa un lenguaje diverso, lo que puede hacer que sus publicaciones sean más atractivas, sin embargo, la relación entre las palabras totales y únicas que es aproximadamente 5.3 veces, sugiere que repite ciertas palabras o frases, quizás para enfatizar ideas clave, también, si hay palabras únicas que se repiten, podría reflejar los temas recurrentes en su comunicación\n",
    "\n",
    "Ahora procederemos a calcular la longitud media de los Tweets publicados por Elon Musk, de tal forma que nos permitirá identificar no solo la longitud promedio de sus publicaciones, sino también evaluar si esa longitud es consistente a lo largo del tiempo. Con esta información, podremos entender mejor su estilo de comunicación y si prefiere mensajes breves o más elaborados, analizar la longitud de los Tweets rsulta ser clave para identificar patrones en su forma de expresarse."
   ]
  },
  {
   "cell_type": "code",
   "execution_count": 58,
   "metadata": {},
   "outputs": [
    {
     "data": {
      "text/plain": [
       "count    2633.000000\n",
       "mean       11.043676\n",
       "std        10.899408\n",
       "min         1.000000\n",
       "25%         3.000000\n",
       "50%         7.000000\n",
       "75%        16.000000\n",
       "max        51.000000\n",
       "Name: Contenido_tokenizado, dtype: float64"
      ]
     },
     "execution_count": 58,
     "metadata": {},
     "output_type": "execute_result"
    }
   ],
   "source": [
    "# Longitud y media de las palabras en los Tweets de Elon Musk \n",
    "# ===========================================================================\n",
    "\n",
    "df_frecuencia = pd.DataFrame(df_tokenizado.groupby(by= 'Id')['Contenido_tokenizado'].count())\n",
    "df_frecuencia.reset_index()\n",
    "df_frecuencia['Contenido_tokenizado'].describe()"
   ]
  },
  {
   "cell_type": "markdown",
   "metadata": {},
   "source": [
    "Podemos observar que la longitud media de las publicaciones de Elon Musk ronda las 11 palabras. Sin embargo, la desviación estándar es considerablemente grande, con un valor de 10, lo que indica que la longitud de sus publicaciones es bastante variada, además, se puede destacar que al menos el 75% de las publicaciones tienen una longitud de 16 palabras o menos. Por otro lado, la mayor longitud de palabras que ha utilizado en una publicación es de 51 palabras, esto sugiere que, si bien Elon Musk tiende a realizar publicaciones breves, también hay ocasiones en las que se extiende más en sus mensajes, lo que puede reflejar la complejidad de los temas que aborda o su intención de comunicar información detallada."
   ]
  },
  {
   "cell_type": "markdown",
   "metadata": {},
   "source": [
    "## 4.5 Palabras más utilizadas en los Tweets\n",
    "\n",
    "A continuación, vamos a identificar las palabras más utilizadas por Elon Musk en sus publicaciones, este análisis es fundamental ya que nos permite comprender los temas que más suele mencionar en sus mensajes, así como los intereses y preocupaciones que predominan en su comunicación, al analizar la frecuencia de las palabras, podemos obtener insights sobre sus enfoques, opiniones y el tipo de contenido que genera mayor interacción en la plataforma. Esto no solo enriquece nuestra comprensión de su presencia en la red social, sino que también puede ayudar a identificar tendencias en la conversación pública en torno a su figura."
   ]
  },
  {
   "cell_type": "code",
   "execution_count": 59,
   "metadata": {},
   "outputs": [
    {
     "name": "stdout",
     "output_type": "stream",
     "text": [
      "   Palabra  Frecuencia\n",
      "0      the         890\n",
      "1       to         818\n",
      "2       is         739\n",
      "3       of         557\n",
      "4       in         402\n",
      "5     that         321\n",
      "6      for         309\n",
      "7       be         302\n",
      "8      amp         285\n",
      "9       it         255\n",
      "10    will         240\n",
      "11     but         236\n",
      "12    this         231\n",
      "13     are         231\n",
      "14      on         214\n",
      "15     and         195\n",
      "16    with         190\n",
      "17      so         181\n",
      "18      we         179\n",
      "19     not         174\n"
     ]
    }
   ],
   "source": [
    "# Hallamos las palabras más frecuentes en los Tweets de Elon Musk\n",
    "# ===========================================================================\n",
    "\n",
    "df_frecuencia_palabras = df_tokenizado['Contenido_tokenizado'].value_counts().reset_index()\n",
    "df_frecuencia_palabras.columns = ['Palabra', 'Frecuencia']\n",
    "\n",
    "print(df_frecuencia_palabras.head(20))"
   ]
  },
  {
   "cell_type": "markdown",
   "metadata": {},
   "source": [
    "Representamos gráficamente el resultado"
   ]
  },
  {
   "cell_type": "code",
   "execution_count": 60,
   "metadata": {},
   "outputs": [
    {
     "data": {
      "image/png": "[encoded data removed]",
      "text/plain": [
       "<Figure size 1000x600 with 1 Axes>"
      ]
     },
     "metadata": {},
     "output_type": "display_data"
    }
   ],
   "source": [
    "# Representamos gráficamente  el resultado utilizando Seaborn y con barras horizontales\n",
    "# ===========================================================================\n",
    "\n",
    "plt.figure(figsize=(10, 6))\n",
    "sns.barplot(x='Frecuencia', y='Palabra', data=df_frecuencia_palabras.head(20), palette='viridis')\n",
    "plt.title('Top 10 Palabras Más Utilizadas')\n",
    "plt.xlabel('Frecuencia')\n",
    "plt.ylabel('Palabra')\n",
    "plt.show()"
   ]
  },
  {
   "cell_type": "markdown",
   "metadata": {},
   "source": [
    "Se puede observar que los términos más frecuentes en las publicaciones corresponden a artículos, preposiciones y pronombres. Generalmente, estas palabras no nos aportan información relevante acerca del contenido del texto; a este tipo de palabras se les conoce como *Stop Words*. Cada idioma tiene su propio listado de Stop Words, lo cual es un aspecto a tener en cuenta en nuestros análisis. En algunos casos, puede ser necesario adaptar este listado a nuestras necesidades específicas.\n",
    "\n",
    "Para este análisis, accederemos al listado de Stop Words del idioma inglés a través del módulo `stopwords` de la biblioteca NLTK. Esto nos permitirá limpiar nuestros datos de manera más efectiva y centrarnos en las palabras que realmente aportan valor al contenido de los Tweets."
   ]
  },
  {
   "cell_type": "code",
   "execution_count": 61,
   "metadata": {},
   "outputs": [
    {
     "name": "stdout",
     "output_type": "stream",
     "text": [
      "['a', 'about', 'above', 'after', 'again', 'against', 'ain', 'all', 'also', 'am', 'amp', 'an', 'and', 'any', 'are', 'aren', \"aren't\", 'as', 'at', 'be', 'because', 'been', 'before', 'being', 'below', 'between', 'both', 'but', 'by', 'can', 'couldn', \"couldn't\", 'd', 'did', 'didn', \"didn't\", 'do', 'does', 'doesn', \"doesn't\", 'doing', 'don', \"don't\", 'down', 'during', 'each', 'even', 'few', 'for', 'from', 'further', 'had', 'hadn', \"hadn't\", 'haha', 'has', 'hasn', \"hasn't\", 'have', 'haven', \"haven't\", 'having', 'he', 'her', 'here', 'hers', 'herself', 'him', 'himself', 'his', 'how', 'i', 'if', 'im', 'in', 'into', 'is', 'isn', \"isn't\", 'it', \"it's\", 'its', 'itself', 'just', 'like', 'll', 'm', 'ma', 'many', 'me', 'mightn', \"mightn't\", 'more', 'most', 'much', 'mustn', \"mustn't\", 'my', 'myself', 'needn', \"needn't\", 'no', 'nor', 'not', 'now', 'o', 'of', 'off', 'on', 'once', 'one', 'only', 'or', 'other', 'our', 'ours', 'ourselves', 'out', 'over', 'own', 're', 's', 'same', 'shan', \"shan't\", 'she', \"she's\", 'should', \"should've\", 'shouldn', \"shouldn't\", 'so', 'some', 'such', 't', 'than', 'that', \"that'll\", 'the', 'their', 'theirs', 'them', 'themselves', 'then', 'there', 'these', 'they', 'this', 'those', 'through', 'to', 'too', 'true', 'under', 'until', 'up', 've', 'very', 'was', 'wasn', \"wasn't\", 'we', 'were', 'weren', \"weren't\", 'what', 'when', 'where', 'which', 'while', 'who', 'whom', 'why', 'will', 'with', 'won', \"won't\", 'would', 'wouldn', \"wouldn't\", 'y', 'yeah', 'yes', 'you', \"you'd\", \"you'll\", \"you're\", \"you've\", 'your', 'yours', 'yourself', 'yourselves']\n"
     ]
    }
   ],
   "source": [
    "# Generamos la lista de palabras que no aportan información\n",
    "# ===========================================================================\n",
    "\n",
    "stop_words = list(stopwords.words('english'))\n",
    "stop_words.extend(['amp', 'would', 'im', 'much', 'yes', 'true', 'one', 'many', 'even', 'like', 'also', 'yeah', 'haha', ])\n",
    "stop_words.sort()\n",
    "print(stop_words)"
   ]
  },
  {
   "cell_type": "markdown",
   "metadata": {},
   "source": [
    "Ahora procedemos a filtrar las Stop Words en las palabras utilizadas en las publicaciones de Elon Musk"
   ]
  },
  {
   "cell_type": "code",
   "execution_count": 62,
   "metadata": {},
   "outputs": [],
   "source": [
    "# Realizamos el filtrado de las palabras que no aportan información \n",
    "# ===========================================================================\n",
    "\n",
    "df_tokenizado = df_tokenizado[~df_tokenizado['Contenido_tokenizado'].isin(stop_words)]"
   ]
  },
  {
   "cell_type": "markdown",
   "metadata": {},
   "source": [
    "Una vez eliminadas las Stop Words que no aportan información relevante sobre los temas de las publicaciones de Elon Musk, realizamos nuevamente el conteo de las 20 palabras más utilizadas en sus Tweets, este análisis nos permitirá identificar con mayor precisión los tópicos más recurrentes y las ideas clave que predominan en su comunicación en la plataforma."
   ]
  },
  {
   "cell_type": "code",
   "execution_count": 63,
   "metadata": {},
   "outputs": [
    {
     "name": "stdout",
     "output_type": "stream",
     "text": [
      "     Palabra  Frecuencia\n",
      "0      tesla         148\n",
      "1       good         100\n",
      "2     people          97\n",
      "3    twitter          96\n",
      "4   starlink          79\n",
      "5       time          65\n",
      "6      great          62\n",
      "7    exactly          55\n",
      "8       make          52\n",
      "9      think          52\n",
      "10     still          52\n",
      "11    spacex          50\n",
      "12     maybe          49\n",
      "13      year          47\n",
      "14      high          47\n",
      "15  probably          47\n",
      "16      dont          46\n",
      "17      next          44\n",
      "18       far          44\n",
      "19     thats          43\n"
     ]
    }
   ],
   "source": [
    "df_frecuencia_palabras = df_tokenizado['Contenido_tokenizado'].value_counts().reset_index()\n",
    "df_frecuencia_palabras.columns = ['Palabra', 'Frecuencia']\n",
    "\n",
    "# Mostrar el DataFrame de frecuencias\n",
    "print(df_frecuencia_palabras.head(20))"
   ]
  },
  {
   "cell_type": "markdown",
   "metadata": {},
   "source": [
    "Generamos la representación gráfica de las palabras mas usadas en las publicaciones"
   ]
  },
  {
   "cell_type": "code",
   "execution_count": 64,
   "metadata": {},
   "outputs": [
    {
     "data": {
      "image/png": "[encoded data removed]",
      "text/plain": [
       "<Figure size 1000x600 with 1 Axes>"
      ]
     },
     "metadata": {},
     "output_type": "display_data"
    }
   ],
   "source": [
    "# Representamos gráficamente el resultado utilizando Seaborn y con barras horizontales\n",
    "# ===========================================================================\n",
    "\n",
    "plt.figure(figsize=(10, 6))\n",
    "sns.barplot(x='Frecuencia', y='Palabra', data=df_frecuencia_palabras.head(20), palette='viridis')\n",
    "plt.title('Top 10 Palabras Más Utilizadas')\n",
    "plt.xlabel('Frecuencia')\n",
    "plt.ylabel('Palabra')\n",
    "plt.show()"
   ]
  },
  {
   "cell_type": "markdown",
   "metadata": {},
   "source": [
    "De las palabras más mencionadas en las publicaciones de Elon Musk se puede observar:\n",
    "\n",
    "- \"Tesla\" es la palabra más mencionada, lo que sugiere un enfoque constante en su empresa de automóviles eléctricos y las innovaciones en el sector.\n",
    "\n",
    "- Palabras como \"people\" y \"good\" indican que Musk busca conectarse emocionalmente con su audiencia y generar un sentimiento positivo, el uso de estas palabras puede ser una estrategia para fomentar la lealtad y la confianza de sus seguidores, mostrándose accesible y preocupado por el bienestar de los demás.\n",
    "\n",
    "- La inclusión de \"twitter\" resalta la importancia de la plataforma en su comunicación y su atención a las interacciones en la plataforma.\n",
    "\n",
    "- Los Términos como \"think\", \"make\", \"maybe\" y \"probably\" aportan un tono conversacional, sugiriendo que busca involucrar a sus seguidores en un diálogo abierto, esto puede indicar su interés en escuchar la opinión de los demás y su disposición a considerar diferentes perspectivas, lo que puede ser una táctica para fomentar la participación de la comunidad.\n",
    "\n",
    "- Palabras como \"starlink\" y \"spacex\" refuerzan su enfoque en la innovación tecnológica y la exploración de nuevos horizontes, al mencionar estos términos, Eln Musk resalta su papel en la industria espacial y en la conectividad global, alineándose con su visión de un futuro interconectado.\n"
   ]
  },
  {
   "cell_type": "markdown",
   "metadata": {},
   "source": [
    "# Referencias BBibliográficas\n",
    "\n",
    "- Blake, C. (2011). Text mining. Annual review of information science and technology, 45(1), 121-155.\n",
    "\n",
    "- Sukanya, M., & Biruntha, S. (2012, August). Techniques on text mining. In 2012 ieee international conference on advanced communication control and computing technologies (icaccct) (pp. 269-271). IEEE.\n",
    "\n",
    "- Amat, J. (2020). Análisis de texto (text mining) con Python, disponible con licencia CC BY-NC-SA 4.0 en https://www.cienciadedatos.net/documentos/py25-text-mining-python.html"
   ]
  }
 ],
 "metadata": {
  "kernelspec": {
   "display_name": "data",
   "language": "python",
   "name": "python3"
  },
  "language_info": {
   "codemirror_mode": {
    "name": "ipython",
    "version": 3
   },
   "file_extension": ".py",
   "mimetype": "text/x-python",
   "name": "python",
   "nbconvert_exporter": "python",
   "pygments_lexer": "ipython3",
   "version": "3.12.4"
  }
 },
 "nbformat": 4,
 "nbformat_minor": 2
}
